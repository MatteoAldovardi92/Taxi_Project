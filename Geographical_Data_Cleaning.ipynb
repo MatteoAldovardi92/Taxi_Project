{
  "nbformat": 4,
  "nbformat_minor": 0,
  "metadata": {
    "colab": {
      "provenance": [],
      "authorship_tag": "ABX9TyPIZ4lyWy5gEjldQ7yZ7l2V",
      "include_colab_link": true
    },
    "kernelspec": {
      "name": "python3",
      "display_name": "Python 3"
    },
    "language_info": {
      "name": "python"
    }
  },
  "cells": [
    {
      "cell_type": "markdown",
      "metadata": {
        "id": "view-in-github",
        "colab_type": "text"
      },
      "source": [
        "<a href=\"https://colab.research.google.com/github/MatteoAldovardi92/Taxi_Project/blob/main/Geographical_Data_Cleaning.ipynb\" target=\"_parent\"><img src=\"https://colab.research.google.com/assets/colab-badge.svg\" alt=\"Open In Colab\"/></a>"
      ]
    },
    {
      "cell_type": "code",
      "execution_count": 104,
      "metadata": {
        "colab": {
          "base_uri": "https://localhost:8080/"
        },
        "id": "FjXQPd-J-MyU",
        "outputId": "18d03562-dea8-4b97-8e17-80aa0399b1d5"
      },
      "outputs": [
        {
          "output_type": "stream",
          "name": "stdout",
          "text": [
            "Path to dataset files: /kaggle/input/taxi-routes-for-mexico-city-and-quito\n"
          ]
        }
      ],
      "source": [
        "import kagglehub\n",
        "\n",
        "# Download latest version\n",
        "path = kagglehub.dataset_download(\"mnavas/taxi-routes-for-mexico-city-and-quito\")\n",
        "\n",
        "print(\"Path to dataset files:\", path)"
      ]
    },
    {
      "cell_type": "code",
      "source": [
        "import os\n",
        "\n",
        "# Show files inside the dataset directory\n",
        "print(\"Dataset contents:\")\n",
        "for root, dirs, files in os.walk(path):\n",
        "    for name in files:\n",
        "        print(os.path.join(root, name))\n"
      ],
      "metadata": {
        "colab": {
          "base_uri": "https://localhost:8080/"
        },
        "id": "TI34_W8R-m_T",
        "outputId": "75fb90fa-2a16-4ad1-ccb0-053432db6db4"
      },
      "execution_count": 105,
      "outputs": [
        {
          "output_type": "stream",
          "name": "stdout",
          "text": [
            "Dataset contents:\n",
            "/kaggle/input/taxi-routes-for-mexico-city-and-quito/mex_clean.csv\n",
            "/kaggle/input/taxi-routes-for-mexico-city-and-quito/uio_clean.csv\n",
            "/kaggle/input/taxi-routes-for-mexico-city-and-quito/all-data_clean.csv\n",
            "/kaggle/input/taxi-routes-for-mexico-city-and-quito/bog_clean.csv\n"
          ]
        }
      ]
    },
    {
      "cell_type": "code",
      "source": [
        "import pandas as pd\n",
        "import kagglehub\n",
        "import os\n",
        "\n",
        "# Download the dataset\n",
        "path = kagglehub.dataset_download(\"mnavas/taxi-routes-for-mexico-city-and-quito\")\n",
        "\n",
        "# Load each CSV as a separate DataFrame\n",
        "bog_df = pd.read_csv(os.path.join(path, \"bog_clean.csv\"))\n",
        "uio_df = pd.read_csv(os.path.join(path, \"uio_clean.csv\"))\n",
        "mex_df = pd.read_csv(os.path.join(path, \"mex_clean.csv\"))\n",
        "all_df = pd.read_csv(os.path.join(path, \"all-data_clean.csv\"))\n",
        "\n",
        "# Preview one\n",
        "print(all_df.head())\n"
      ],
      "metadata": {
        "colab": {
          "base_uri": "https://localhost:8080/"
        },
        "id": "12zg08QY-pqo",
        "outputId": "d0b61fc3-b848-463c-f9a7-c2a64e17b094"
      },
      "execution_count": 106,
      "outputs": [
        {
          "output_type": "stream",
          "name": "stdout",
          "text": [
            "   id              vendor_id      pickup_datetime     dropoff_datetime  \\\n",
            "0   1                  Quito  2016-09-17 09:32:06  2016-09-17 10:05:51   \n",
            "1   2  Guadalajara Easy Taxi  2016-09-17 09:59:54  2016-09-17 10:06:23   \n",
            "2   3              Monterrey  2016-09-17 10:06:52  2016-09-17 10:09:40   \n",
            "3   4              Monterrey  2016-09-17 09:45:56  2016-09-17 10:13:34   \n",
            "4   5              Monterrey  2016-09-17 10:12:00  2016-09-17 10:16:31   \n",
            "\n",
            "   pickup_longitude  pickup_latitude  dropoff_longitude  dropoff_latitude  \\\n",
            "0          0.632055         0.528947         -78.549447         -0.361363   \n",
            "1          0.327804         0.391950        -103.366600         20.686971   \n",
            "2          0.140910         0.563280        -100.165737         25.619387   \n",
            "3          0.207565         0.590416        -100.491721         25.676294   \n",
            "4          0.128881         0.580419        -100.104166         25.643862   \n",
            "\n",
            "  store_and_fwd_flag  trip_duration  dist_meters  wait_sec  \n",
            "0                  N           2025        24228       346  \n",
            "1                  N            389         2962      3675  \n",
            "2                  N            168          951         0  \n",
            "3                  N           1659        11082       358  \n",
            "4                  N            272         2021      3614  \n"
          ]
        }
      ]
    },
    {
      "cell_type": "code",
      "source": [
        "bog_coord = (4.652238, -74.116886)\n",
        "uio_coord = (-0.220005, -78.512506)\n",
        "mex_coord = (19.420083, -99.144867)"
      ],
      "metadata": {
        "id": "nsDRi0f2DTby"
      },
      "execution_count": 107,
      "outputs": []
    },
    {
      "cell_type": "code",
      "source": [
        "            ### Small library of functions ###\n",
        "################################################################################\n",
        "\n",
        "\n",
        "\n",
        "import matplotlib.pyplot as plt\n",
        "import pandas as pd\n",
        "import numpy as np\n",
        "from sklearn.cluster import KMeans\n",
        "\n",
        "def plot_kmeans_clusters(df, location_type='pickup', n_clusters=2, save = False):\n",
        "    \"\"\"\n",
        "    Plots KMeans clusters for pickup or dropoff locations and returns the fitted KMeans object.\n",
        "\n",
        "    Parameters:\n",
        "    - df: DataFrame containing latitude and longitude columns.\n",
        "    - location_type: 'pickup' or 'dropoff' to specify which columns to use.\n",
        "    - n_clusters: number of clusters for KMeans.\n",
        "\n",
        "    Returns:\n",
        "    - kmeans: trained KMeans object.\n",
        "    \"\"\"\n",
        "    assert location_type in ['pickup', 'dropoff'], \"location_type must be 'pickup' or 'dropoff'\"\n",
        "\n",
        "    lat_col = f'{location_type}_latitude'\n",
        "    lon_col = f'{location_type}_longitude'\n",
        "\n",
        "    # Extract coordinates and convert to numpy array\n",
        "    coordinates = np.array(list(zip(df[lat_col], df[lon_col])))\n",
        "\n",
        "    # Apply KMeans clustering\n",
        "    kmeans = KMeans(n_clusters=n_clusters, random_state=0)\n",
        "    kmeans.fit(coordinates)\n",
        "\n",
        "    labels = kmeans.labels_\n",
        "    centroids = kmeans.cluster_centers_\n",
        "\n",
        "    # Prepare DataFrame for plotting\n",
        "    df_plot = pd.DataFrame(coordinates, columns=['latitude', 'longitude'])\n",
        "    df_plot['cluster'] = labels\n",
        "\n",
        "    # Plot\n",
        "    plt.figure(figsize=(10, 8))\n",
        "    colors = ['red', 'blue', 'green', 'purple', 'orange', 'cyan', 'magenta', 'yellow', 'black', 'gray']\n",
        "\n",
        "    for i in range(n_clusters):\n",
        "        cluster_points = df_plot[df_plot['cluster'] == i]\n",
        "        color = colors[i % len(colors)]\n",
        "        plt.scatter(cluster_points['longitude'], cluster_points['latitude'],\n",
        "                    color=color, label=f'Cluster {i}', s=20, alpha=0.5)\n",
        "\n",
        "    plt.scatter(centroids[:, 1], centroids[:, 0], color='black', marker='*', s=100, label='Centroids')\n",
        "    plt.xlabel('Longitude')\n",
        "    plt.ylabel('Latitude')\n",
        "    plt.title(f'Clusters of {location_type.capitalize()} Locations')\n",
        "    plt.legend()\n",
        "    if save == True:\n",
        "        plt.savefig(f'{location_type}_cluster.jpg')\n",
        "    plt.grid(True)\n",
        "    plt.show()\n",
        "\n",
        "    return kmeans, coordinates\n",
        "\n",
        "from geopy.distance import geodesic\n",
        "\n",
        "\n",
        "def clip_km_away(locations: pd.DataFrame, city_center, radius):\n",
        "    \"\"\"\n",
        "    Filters out points that are more than 'radius' km away from the city center.\n",
        "\n",
        "    Parameters:\n",
        "    - locations: two columns of a dataframe containing lat, long.\n",
        "                 Expects columns named 'pickup_latitude' and 'pickup_longitude'\n",
        "                 or 'dropoff_latitude' and 'dropoff_longitude'.\n",
        "    - city_center: tuple (lat, long)\n",
        "    - radius: radius in kilometers\n",
        "\n",
        "    Returns:\n",
        "    - a boolean mask (a list or pandas Series)\n",
        "    \"\"\"\n",
        "    # Determine which columns to use based on the columns present in the DataFrame\n",
        "    if 'pickup_latitude' in locations.columns and 'pickup_longitude' in locations.columns:\n",
        "        lat_col = 'pickup_latitude'\n",
        "        lon_col = 'pickup_longitude'\n",
        "    elif 'dropoff_latitude' in locations.columns and 'dropoff_longitude' in locations.columns:\n",
        "        lat_col = 'dropoff_latitude'\n",
        "        lon_col = 'dropoff_longitude'\n",
        "    else:\n",
        "        raise ValueError(\"locations DataFrame must contain 'pickup_latitude' and 'pickup_longitude' \"\n",
        "                         \"or 'dropoff_latitude' and 'dropoff_longitude' columns.\")\n",
        "\n",
        "    # Iterate through rows and calculate distance for each point\n",
        "    # Use .itertuples(index=False) for efficiency and get values as a tuple\n",
        "    mask = [geodesic((row[0], row[1]), city_center).km <= radius\n",
        "            for row in locations[[lat_col, lon_col]].itertuples(index=False)]\n",
        "\n",
        "    return mask\n",
        "\n",
        "\n",
        "\n",
        "# This function could eventually be enriched as more and more conditions comes to mind\n",
        "def Clean_df(df):\n",
        "  \"\"\"\n",
        "    Filters out rows with blatantly incorrect values.\n",
        "\n",
        "    Parameters:\n",
        "    - df : DataFrame to clean\n",
        "    Returns:\n",
        "    - df : cleaned DataFrame\n",
        "    \"\"\"\n",
        "\n",
        "  # Explicitly define each condition for dist_meters and trip_duration\n",
        "  mask_dist = (df['dist_meters'] > 200) & (df['dist_meters'] < 120 * 10**3) # trips between 200m and 120km\n",
        "  mask_duration = (df['trip_duration'] > 2*60) & (df['trip_duration'] < 3*3600) # between 2 minutes and 3h\n",
        "\n",
        "  # Combine the masks using the bitwise AND operator\n",
        "  mask = mask_dist & mask_duration\n",
        "\n",
        "  return df[mask]\n",
        "\n",
        "################################################################################################\n",
        "\n"
      ],
      "metadata": {
        "id": "57kcDgcYAkaB"
      },
      "execution_count": 108,
      "outputs": []
    },
    {
      "cell_type": "code",
      "source": [
        "# Remove all the coordinates in a 60 km radius away from each city center.\n",
        "\n",
        "mask_pickup_bog = clip_km_away(bog_df[['pickup_latitude', 'pickup_longitude']], bog_coord, 60)\n",
        "bog_df = bog_df[mask_pickup_bog]\n",
        "\n",
        "mask_dropoff_bog = clip_km_away(bog_df[['dropoff_latitude', 'dropoff_longitude']], bog_coord, 60)\n",
        "bog_df = bog_df[mask_dropoff_bog]\n",
        "\n",
        "\n",
        "mask_pickup_uio = clip_km_away(uio_df[['pickup_latitude', 'pickup_longitude']], uio_coord, 60)\n",
        "uio_df = uio_df[mask_pickup_uio]\n",
        "\n",
        "mask_dropoff_uio = clip_km_away(uio_df[['dropoff_latitude', 'dropoff_longitude']], uio_coord, 60)\n",
        "uio_df = uio_df[mask_dropoff_uio]\n",
        "\n",
        "\n",
        "\n",
        "mask_pickup_mex = clip_km_away(mex_df[['pickup_latitude', 'pickup_longitude']], mex_coord,60)\n",
        "mex_df = mex_df[mask_pickup_mex]\n",
        "\n",
        "mask_dropoff_mex = clip_km_away(mex_df[['dropoff_latitude', 'dropoff_longitude']], mex_coord, 60)\n",
        "mex_df = mex_df[mask_dropoff_mex]"
      ],
      "metadata": {
        "id": "avXN7aI8Bsvl"
      },
      "execution_count": 109,
      "outputs": []
    },
    {
      "cell_type": "markdown",
      "source": [
        "#Visualize the filtered positions"
      ],
      "metadata": {
        "id": "sP8cTMCWRJTI"
      }
    },
    {
      "cell_type": "code",
      "source": [
        "plot_kmeans_clusters(uio_df, location_type='pickup', n_clusters=2, save = True)"
      ],
      "metadata": {
        "colab": {
          "base_uri": "https://localhost:8080/",
          "height": 670
        },
        "id": "W0mLtsUaDqJ4",
        "outputId": "7b7166b4-3e03-4761-8c61-e54018b084b9"
      },
      "execution_count": 110,
      "outputs": [
        {
          "output_type": "display_data",
          "data": {
            "text/plain": [
              "<Figure size 1000x800 with 1 Axes>"
            ],
            "image/png": "[encoded data removed]"
          },
          "metadata": {}
        },
        {
          "output_type": "execute_result",
          "data": {
            "text/plain": [
              "(KMeans(n_clusters=2, random_state=0),\n",
              " array([[-2.32824134e-01, -7.85039218e+01],\n",
              "        [ 6.78890239e-03, -7.84403056e+01],\n",
              "        [-1.43636221e-01, -7.84695514e+01],\n",
              "        ...,\n",
              "        [-1.07513805e-01, -7.84772472e+01],\n",
              "        [-2.56730460e-01, -7.85502635e+01],\n",
              "        [-3.41537955e-01, -7.84319858e+01]]))"
            ]
          },
          "metadata": {},
          "execution_count": 110
        }
      ]
    },
    {
      "cell_type": "markdown",
      "source": [
        "### Apply other filters"
      ],
      "metadata": {
        "id": "-rh55AAU-0bc"
      }
    },
    {
      "cell_type": "code",
      "source": [
        "bog_df = Clean_df(bog_df)\n",
        "uio_df = Clean_df(uio_df)\n",
        "mex_df = Clean_df(mex_df)\n"
      ],
      "metadata": {
        "id": "9W8ccz16-zWy"
      },
      "execution_count": 111,
      "outputs": []
    },
    {
      "cell_type": "code",
      "source": [
        "print(\"Bogota dataframe\", bog_df.shape)\n",
        "print(\"Quito's\", uio_df.shape)\n",
        "print(\"Mexico City's\", mex_df.shape)"
      ],
      "metadata": {
        "colab": {
          "base_uri": "https://localhost:8080/"
        },
        "id": "G25fzq1lSFUE",
        "outputId": "14cb8087-ebf9-4a4a-a0f3-af342a2d6eae"
      },
      "execution_count": 112,
      "outputs": [
        {
          "output_type": "stream",
          "name": "stdout",
          "text": [
            "Bogota dataframe (2171, 12)\n",
            "Quito's (27501, 12)\n",
            "Mexico City's (10324, 12)\n"
          ]
        }
      ]
    },
    {
      "cell_type": "markdown",
      "source": [
        "### Geodetic distance"
      ],
      "metadata": {
        "id": "Clmuc-yqSc32"
      }
    },
    {
      "cell_type": "code",
      "source": [
        "from geopy.distance import geodesic\n",
        "\n",
        "# Create geodesic distances using proper zipping\n",
        "distances = [\n",
        "    geodesic((lat1, lon1), (lat2, lon2)).meters\n",
        "    for lat1, lon1, lat2, lon2 in zip(\n",
        "        bog_df['pickup_latitude'],\n",
        "        bog_df['pickup_longitude'],\n",
        "        bog_df['dropoff_latitude'],\n",
        "        bog_df['dropoff_longitude']\n",
        "    )\n",
        "]\n",
        "\n",
        "bog_df['geodetic_dist'] = distances\n",
        "\n",
        "\n",
        "\n",
        "distances = [\n",
        "    geodesic((lat1, lon1), (lat2, lon2)).meters\n",
        "    for lat1, lon1, lat2, lon2 in zip(\n",
        "        uio_df['pickup_latitude'],\n",
        "        uio_df['pickup_longitude'],\n",
        "        uio_df['dropoff_latitude'],\n",
        "        uio_df['dropoff_longitude']\n",
        "    )\n",
        "]\n",
        "\n",
        "uio_df['geodetic_dist'] = distances\n",
        "\n",
        "\n",
        "distances = [\n",
        "    geodesic((lat1, lon1), (lat2, lon2)).meters\n",
        "    for lat1, lon1, lat2, lon2 in zip(\n",
        "        mex_df['pickup_latitude'],\n",
        "        mex_df['pickup_longitude'],\n",
        "        mex_df['dropoff_latitude'],\n",
        "        mex_df['dropoff_longitude']\n",
        "    )\n",
        "]\n",
        "\n",
        "mex_df['geodetic_dist'] = distances\n",
        "\n"
      ],
      "metadata": {
        "id": "KaI7OUDDSy9W"
      },
      "execution_count": 113,
      "outputs": []
    },
    {
      "cell_type": "code",
      "source": [
        "mask = bog_df['geodetic_dist'] > 200 # at least 200 m\n",
        "bog_df = bog_df[mask]\n",
        "\n",
        "mask = uio_df['geodetic_dist'] > 200\n",
        "uio_df = uio_df[mask]\n",
        "\n",
        "\n",
        "\n",
        "mask = mex_df['geodetic_dist'] > 200\n",
        "mex_df = mex_df[mask]\n",
        "\n",
        "print(bog_df['geodetic_dist'].max()/1000, uio_df['geodetic_dist'].max()/1000, mex_df['geodetic_dist'].max()/1000)"
      ],
      "metadata": {
        "colab": {
          "base_uri": "https://localhost:8080/"
        },
        "id": "CRsB6HspT9Ma",
        "outputId": "21f0e57d-d101-4189-cbd7-5298e30c7fc3"
      },
      "execution_count": 114,
      "outputs": [
        {
          "output_type": "stream",
          "name": "stdout",
          "text": [
            "41.16830619183478 45.08203284975902 50.99579427805217\n"
          ]
        }
      ]
    },
    {
      "cell_type": "code",
      "source": [
        "bog_df['trip_duration'].describe()/3600 # maximum trip is 3h"
      ],
      "metadata": {
        "colab": {
          "base_uri": "https://localhost:8080/",
          "height": 335
        },
        "id": "p9Fdx1aEVj9k",
        "outputId": "e05ac841-d928-4659-d72c-cadf2770d919"
      },
      "execution_count": 115,
      "outputs": [
        {
          "output_type": "execute_result",
          "data": {
            "text/plain": [
              "count    0.554722\n",
              "mean     0.552777\n",
              "std      0.515724\n",
              "min      0.033889\n",
              "25%      0.204444\n",
              "50%      0.381111\n",
              "75%      0.706389\n",
              "max      2.997500\n",
              "Name: trip_duration, dtype: float64"
            ],
            "text/html": [
              "<div>\n",
              "<style scoped>\n",
              "    .dataframe tbody tr th:only-of-type {\n",
              "        vertical-align: middle;\n",
              "    }\n",
              "\n",
              "    .dataframe tbody tr th {\n",
              "        vertical-align: top;\n",
              "    }\n",
              "\n",
              "    .dataframe thead th {\n",
              "        text-align: right;\n",
              "    }\n",
              "</style>\n",
              "<table border=\"1\" class=\"dataframe\">\n",
              "  <thead>\n",
              "    <tr style=\"text-align: right;\">\n",
              "      <th></th>\n",
              "      <th>trip_duration</th>\n",
              "    </tr>\n",
              "  </thead>\n",
              "  <tbody>\n",
              "    <tr>\n",
              "      <th>count</th>\n",
              "      <td>0.554722</td>\n",
              "    </tr>\n",
              "    <tr>\n",
              "      <th>mean</th>\n",
              "      <td>0.552777</td>\n",
              "    </tr>\n",
              "    <tr>\n",
              "      <th>std</th>\n",
              "      <td>0.515724</td>\n",
              "    </tr>\n",
              "    <tr>\n",
              "      <th>min</th>\n",
              "      <td>0.033889</td>\n",
              "    </tr>\n",
              "    <tr>\n",
              "      <th>25%</th>\n",
              "      <td>0.204444</td>\n",
              "    </tr>\n",
              "    <tr>\n",
              "      <th>50%</th>\n",
              "      <td>0.381111</td>\n",
              "    </tr>\n",
              "    <tr>\n",
              "      <th>75%</th>\n",
              "      <td>0.706389</td>\n",
              "    </tr>\n",
              "    <tr>\n",
              "      <th>max</th>\n",
              "      <td>2.997500</td>\n",
              "    </tr>\n",
              "  </tbody>\n",
              "</table>\n",
              "</div><br><label><b>dtype:</b> float64</label>"
            ]
          },
          "metadata": {},
          "execution_count": 115
        }
      ]
    },
    {
      "cell_type": "code",
      "source": [
        "bog_df['trip_duration'].hist()"
      ],
      "metadata": {
        "colab": {
          "base_uri": "https://localhost:8080/",
          "height": 447
        },
        "id": "QSZrEDOzWNtF",
        "outputId": "5793faf8-83b1-4093-fb39-d3be555534b1"
      },
      "execution_count": 116,
      "outputs": [
        {
          "output_type": "execute_result",
          "data": {
            "text/plain": [
              "<Axes: >"
            ]
          },
          "metadata": {},
          "execution_count": 116
        },
        {
          "output_type": "display_data",
          "data": {
            "text/plain": [
              "<Figure size 640x480 with 1 Axes>"
            ],
            "image/png": "[encoded data removed]"
          },
          "metadata": {}
        }
      ]
    },
    {
      "cell_type": "code",
      "source": [
        "mex_df['trip_duration'].hist(density=True)"
      ],
      "metadata": {
        "colab": {
          "base_uri": "https://localhost:8080/",
          "height": 447
        },
        "id": "Ukwh6VTeWa52",
        "outputId": "3961eb8d-847b-4f6c-b918-fe5f3a428e18"
      },
      "execution_count": 117,
      "outputs": [
        {
          "output_type": "execute_result",
          "data": {
            "text/plain": [
              "<Axes: >"
            ]
          },
          "metadata": {},
          "execution_count": 117
        },
        {
          "output_type": "display_data",
          "data": {
            "text/plain": [
              "<Figure size 640x480 with 1 Axes>"
            ],
            "image/png": "[encoded data removed]"
          },
          "metadata": {}
        }
      ]
    },
    {
      "cell_type": "markdown",
      "source": [],
      "metadata": {
        "id": "wD1qQG2cX5pn"
      }
    },
    {
      "cell_type": "markdown",
      "source": [
        "### Convert the trip_durations in hours to increase readability"
      ],
      "metadata": {
        "id": "yBfE5sZXYOqO"
      }
    },
    {
      "cell_type": "code",
      "source": [
        "bog_df['trip_duration'] = bog_df['trip_duration']/3600 # Convert the durations in hours\n",
        "uio_df['trip_duration'] = uio_df['trip_duration']/3600 #\n",
        "mex_df['trip_duration'] = mex_df['trip_duration']/3600 #\n"
      ],
      "metadata": {
        "id": "_T8Tn6A_YNx-"
      },
      "execution_count": 118,
      "outputs": []
    },
    {
      "cell_type": "markdown",
      "source": [
        "## Visualize the correlation between geodetic distance and distance meters"
      ],
      "metadata": {
        "id": "UspK4sb_Yz_H"
      }
    },
    {
      "cell_type": "code",
      "source": [
        "bog_df[['dist_meters', 'geodetic_dist']].corr()"
      ],
      "metadata": {
        "colab": {
          "base_uri": "https://localhost:8080/",
          "height": 112
        },
        "id": "S5rw4hrNY7hr",
        "outputId": "3bd0428d-ecef-4c5b-98b2-51bfbf1f5b48"
      },
      "execution_count": 119,
      "outputs": [
        {
          "output_type": "execute_result",
          "data": {
            "text/plain": [
              "               dist_meters  geodetic_dist\n",
              "dist_meters       1.000000       0.738588\n",
              "geodetic_dist     0.738588       1.000000"
            ],
            "text/html": [
              "\n",
              "  <div id=\"df-f6d8885f-7d93-4538-b5a0-97e0363acde7\" class=\"colab-df-container\">\n",
              "    <div>\n",
              "<style scoped>\n",
              "    .dataframe tbody tr th:only-of-type {\n",
              "        vertical-align: middle;\n",
              "    }\n",
              "\n",
              "    .dataframe tbody tr th {\n",
              "        vertical-align: top;\n",
              "    }\n",
              "\n",
              "    .dataframe thead th {\n",
              "        text-align: right;\n",
              "    }\n",
              "</style>\n",
              "<table border=\"1\" class=\"dataframe\">\n",
              "  <thead>\n",
              "    <tr style=\"text-align: right;\">\n",
              "      <th></th>\n",
              "      <th>dist_meters</th>\n",
              "      <th>geodetic_dist</th>\n",
              "    </tr>\n",
              "  </thead>\n",
              "  <tbody>\n",
              "    <tr>\n",
              "      <th>dist_meters</th>\n",
              "      <td>1.000000</td>\n",
              "      <td>0.738588</td>\n",
              "    </tr>\n",
              "    <tr>\n",
              "      <th>geodetic_dist</th>\n",
              "      <td>0.738588</td>\n",
              "      <td>1.000000</td>\n",
              "    </tr>\n",
              "  </tbody>\n",
              "</table>\n",
              "</div>\n",
              "    <div class=\"colab-df-buttons\">\n",
              "\n",
              "  <div class=\"colab-df-container\">\n",
              "    <button class=\"colab-df-convert\" onclick=\"convertToInteractive('df-f6d8885f-7d93-4538-b5a0-97e0363acde7')\"\n",
              "            title=\"Convert this dataframe to an interactive table.\"\n",
              "            style=\"display:none;\">\n",
              "\n",
              "  <svg xmlns=\"http://www.w3.org/2000/svg\" height=\"24px\" viewBox=\"0 -960 960 960\">\n",
              "    <path d=\"M120-120v-720h720v720H120Zm60-500h600v-160H180v160Zm220 220h160v-160H400v160Zm0 220h160v-160H400v160ZM180-400h160v-160H180v160Zm440 0h160v-160H620v160ZM180-180h160v-160H180v160Zm440 0h160v-160H620v160Z\"/>\n",
              "  </svg>\n",
              "    </button>\n",
              "\n",
              "  <style>\n",
              "    .colab-df-container {\n",
              "      display:flex;\n",
              "      gap: 12px;\n",
              "    }\n",
              "\n",
              "    .colab-df-convert {\n",
              "      background-color: #E8F0FE;\n",
              "      border: none;\n",
              "      border-radius: 50%;\n",
              "      cursor: pointer;\n",
              "      display: none;\n",
              "      fill: #1967D2;\n",
              "      height: 32px;\n",
              "      padding: 0 0 0 0;\n",
              "      width: 32px;\n",
              "    }\n",
              "\n",
              "    .colab-df-convert:hover {\n",
              "      background-color: #E2EBFA;\n",
              "      box-shadow: 0px 1px 2px rgba(60, 64, 67, 0.3), 0px 1px 3px 1px rgba(60, 64, 67, 0.15);\n",
              "      fill: #174EA6;\n",
              "    }\n",
              "\n",
              "    .colab-df-buttons div {\n",
              "      margin-bottom: 4px;\n",
              "    }\n",
              "\n",
              "    [theme=dark] .colab-df-convert {\n",
              "      background-color: #3B4455;\n",
              "      fill: #D2E3FC;\n",
              "    }\n",
              "\n",
              "    [theme=dark] .colab-df-convert:hover {\n",
              "      background-color: #434B5C;\n",
              "      box-shadow: 0px 1px 3px 1px rgba(0, 0, 0, 0.15);\n",
              "      filter: drop-shadow(0px 1px 2px rgba(0, 0, 0, 0.3));\n",
              "      fill: #FFFFFF;\n",
              "    }\n",
              "  </style>\n",
              "\n",
              "    <script>\n",
              "      const buttonEl =\n",
              "        document.querySelector('#df-f6d8885f-7d93-4538-b5a0-97e0363acde7 button.colab-df-convert');\n",
              "      buttonEl.style.display =\n",
              "        google.colab.kernel.accessAllowed ? 'block' : 'none';\n",
              "\n",
              "      async function convertToInteractive(key) {\n",
              "        const element = document.querySelector('#df-f6d8885f-7d93-4538-b5a0-97e0363acde7');\n",
              "        const dataTable =\n",
              "          await google.colab.kernel.invokeFunction('convertToInteractive',\n",
              "                                                    [key], {});\n",
              "        if (!dataTable) return;\n",
              "\n",
              "        const docLinkHtml = 'Like what you see? Visit the ' +\n",
              "          '<a target=\"_blank\" href=https://colab.research.google.com/notebooks/data_table.ipynb>data table notebook</a>'\n",
              "          + ' to learn more about interactive tables.';\n",
              "        element.innerHTML = '';\n",
              "        dataTable['output_type'] = 'display_data';\n",
              "        await google.colab.output.renderOutput(dataTable, element);\n",
              "        const docLink = document.createElement('div');\n",
              "        docLink.innerHTML = docLinkHtml;\n",
              "        element.appendChild(docLink);\n",
              "      }\n",
              "    </script>\n",
              "  </div>\n",
              "\n",
              "\n",
              "    <div id=\"df-452e7b4f-2f47-4ce3-98bf-77ee70734a00\">\n",
              "      <button class=\"colab-df-quickchart\" onclick=\"quickchart('df-452e7b4f-2f47-4ce3-98bf-77ee70734a00')\"\n",
              "                title=\"Suggest charts\"\n",
              "                style=\"display:none;\">\n",
              "\n",
              "<svg xmlns=\"http://www.w3.org/2000/svg\" height=\"24px\"viewBox=\"0 0 24 24\"\n",
              "     width=\"24px\">\n",
              "    <g>\n",
              "        <path d=\"M19 3H5c-1.1 0-2 .9-2 2v14c0 1.1.9 2 2 2h14c1.1 0 2-.9 2-2V5c0-1.1-.9-2-2-2zM9 17H7v-7h2v7zm4 0h-2V7h2v10zm4 0h-2v-4h2v4z\"/>\n",
              "    </g>\n",
              "</svg>\n",
              "      </button>\n",
              "\n",
              "<style>\n",
              "  .colab-df-quickchart {\n",
              "      --bg-color: #E8F0FE;\n",
              "      --fill-color: #1967D2;\n",
              "      --hover-bg-color: #E2EBFA;\n",
              "      --hover-fill-color: #174EA6;\n",
              "      --disabled-fill-color: #AAA;\n",
              "      --disabled-bg-color: #DDD;\n",
              "  }\n",
              "\n",
              "  [theme=dark] .colab-df-quickchart {\n",
              "      --bg-color: #3B4455;\n",
              "      --fill-color: #D2E3FC;\n",
              "      --hover-bg-color: #434B5C;\n",
              "      --hover-fill-color: #FFFFFF;\n",
              "      --disabled-bg-color: #3B4455;\n",
              "      --disabled-fill-color: #666;\n",
              "  }\n",
              "\n",
              "  .colab-df-quickchart {\n",
              "    background-color: var(--bg-color);\n",
              "    border: none;\n",
              "    border-radius: 50%;\n",
              "    cursor: pointer;\n",
              "    display: none;\n",
              "    fill: var(--fill-color);\n",
              "    height: 32px;\n",
              "    padding: 0;\n",
              "    width: 32px;\n",
              "  }\n",
              "\n",
              "  .colab-df-quickchart:hover {\n",
              "    background-color: var(--hover-bg-color);\n",
              "    box-shadow: 0 1px 2px rgba(60, 64, 67, 0.3), 0 1px 3px 1px rgba(60, 64, 67, 0.15);\n",
              "    fill: var(--button-hover-fill-color);\n",
              "  }\n",
              "\n",
              "  .colab-df-quickchart-complete:disabled,\n",
              "  .colab-df-quickchart-complete:disabled:hover {\n",
              "    background-color: var(--disabled-bg-color);\n",
              "    fill: var(--disabled-fill-color);\n",
              "    box-shadow: none;\n",
              "  }\n",
              "\n",
              "  .colab-df-spinner {\n",
              "    border: 2px solid var(--fill-color);\n",
              "    border-color: transparent;\n",
              "    border-bottom-color: var(--fill-color);\n",
              "    animation:\n",
              "      spin 1s steps(1) infinite;\n",
              "  }\n",
              "\n",
              "  @keyframes spin {\n",
              "    0% {\n",
              "      border-color: transparent;\n",
              "      border-bottom-color: var(--fill-color);\n",
              "      border-left-color: var(--fill-color);\n",
              "    }\n",
              "    20% {\n",
              "      border-color: transparent;\n",
              "      border-left-color: var(--fill-color);\n",
              "      border-top-color: var(--fill-color);\n",
              "    }\n",
              "    30% {\n",
              "      border-color: transparent;\n",
              "      border-left-color: var(--fill-color);\n",
              "      border-top-color: var(--fill-color);\n",
              "      border-right-color: var(--fill-color);\n",
              "    }\n",
              "    40% {\n",
              "      border-color: transparent;\n",
              "      border-right-color: var(--fill-color);\n",
              "      border-top-color: var(--fill-color);\n",
              "    }\n",
              "    60% {\n",
              "      border-color: transparent;\n",
              "      border-right-color: var(--fill-color);\n",
              "    }\n",
              "    80% {\n",
              "      border-color: transparent;\n",
              "      border-right-color: var(--fill-color);\n",
              "      border-bottom-color: var(--fill-color);\n",
              "    }\n",
              "    90% {\n",
              "      border-color: transparent;\n",
              "      border-bottom-color: var(--fill-color);\n",
              "    }\n",
              "  }\n",
              "</style>\n",
              "\n",
              "      <script>\n",
              "        async function quickchart(key) {\n",
              "          const quickchartButtonEl =\n",
              "            document.querySelector('#' + key + ' button');\n",
              "          quickchartButtonEl.disabled = true;  // To prevent multiple clicks.\n",
              "          quickchartButtonEl.classList.add('colab-df-spinner');\n",
              "          try {\n",
              "            const charts = await google.colab.kernel.invokeFunction(\n",
              "                'suggestCharts', [key], {});\n",
              "          } catch (error) {\n",
              "            console.error('Error during call to suggestCharts:', error);\n",
              "          }\n",
              "          quickchartButtonEl.classList.remove('colab-df-spinner');\n",
              "          quickchartButtonEl.classList.add('colab-df-quickchart-complete');\n",
              "        }\n",
              "        (() => {\n",
              "          let quickchartButtonEl =\n",
              "            document.querySelector('#df-452e7b4f-2f47-4ce3-98bf-77ee70734a00 button');\n",
              "          quickchartButtonEl.style.display =\n",
              "            google.colab.kernel.accessAllowed ? 'block' : 'none';\n",
              "        })();\n",
              "      </script>\n",
              "    </div>\n",
              "\n",
              "    </div>\n",
              "  </div>\n"
            ],
            "application/vnd.google.colaboratory.intrinsic+json": {
              "type": "dataframe",
              "summary": "{\n  \"name\": \"bog_df[['dist_meters', 'geodetic_dist']]\",\n  \"rows\": 2,\n  \"fields\": [\n    {\n      \"column\": \"dist_meters\",\n      \"properties\": {\n        \"dtype\": \"number\",\n        \"std\": 0.1848459160682528,\n        \"min\": 0.7385883985469981,\n        \"max\": 1.0,\n        \"num_unique_values\": 2,\n        \"samples\": [\n          0.7385883985469981,\n          1.0\n        ],\n        \"semantic_type\": \"\",\n        \"description\": \"\"\n      }\n    },\n    {\n      \"column\": \"geodetic_dist\",\n      \"properties\": {\n        \"dtype\": \"number\",\n        \"std\": 0.1848459160682528,\n        \"min\": 0.7385883985469981,\n        \"max\": 1.0,\n        \"num_unique_values\": 2,\n        \"samples\": [\n          1.0,\n          0.7385883985469981\n        ],\n        \"semantic_type\": \"\",\n        \"description\": \"\"\n      }\n    }\n  ]\n}"
            }
          },
          "metadata": {},
          "execution_count": 119
        }
      ]
    },
    {
      "cell_type": "markdown",
      "source": [
        "# Mean Velocities:"
      ],
      "metadata": {
        "id": "XZo-JqHRbSuA"
      }
    },
    {
      "cell_type": "code",
      "source": [
        "bog_df['mean_velocity'] = bog_df['dist_meters']/bog_df['trip_duration']\n",
        "uio_df['mean_velocity'] = uio_df['dist_meters']/uio_df['trip_duration']\n",
        "mex_df['mean_velocity'] = mex_df['dist_meters']/mex_df['trip_duration']\n"
      ],
      "metadata": {
        "id": "IY-fjsNLYxIS"
      },
      "execution_count": 120,
      "outputs": []
    },
    {
      "cell_type": "code",
      "source": [
        "bog_df['mean_velocity'] = bog_df['mean_velocity']/1000 # km/h\n",
        "uio_df['mean_velocity'] = uio_df['mean_velocity']/1000\n",
        "mex_df['mean_velocity'] = mex_df['mean_velocity']/1000"
      ],
      "metadata": {
        "colab": {
          "base_uri": "https://localhost:8080/"
        },
        "id": "O7YuyTYbgG06",
        "outputId": "c9aece12-6a66-41c5-b88d-efd347bae932"
      },
      "execution_count": 135,
      "outputs": [
        {
          "output_type": "stream",
          "name": "stderr",
          "text": [
            "<ipython-input-135-74d808209d12>:2: SettingWithCopyWarning: \n",
            "A value is trying to be set on a copy of a slice from a DataFrame.\n",
            "Try using .loc[row_indexer,col_indexer] = value instead\n",
            "\n",
            "See the caveats in the documentation: https://pandas.pydata.org/pandas-docs/stable/user_guide/indexing.html#returning-a-view-versus-a-copy\n",
            "  uio_df['mean_velocity'] = uio_df['mean_velocity']/1000\n",
            "<ipython-input-135-74d808209d12>:3: SettingWithCopyWarning: \n",
            "A value is trying to be set on a copy of a slice from a DataFrame.\n",
            "Try using .loc[row_indexer,col_indexer] = value instead\n",
            "\n",
            "See the caveats in the documentation: https://pandas.pydata.org/pandas-docs/stable/user_guide/indexing.html#returning-a-view-versus-a-copy\n",
            "  mex_df['mean_velocity'] = mex_df['mean_velocity']/1000\n"
          ]
        }
      ]
    },
    {
      "cell_type": "markdown",
      "source": [
        "# Drop the useless columns from the dataset"
      ],
      "metadata": {
        "id": "uzNIVFa8bsFr"
      }
    },
    {
      "cell_type": "code",
      "source": [
        "column_to_drop = ['id', 'vendor_id', 'store_and_fwd_flag', 'dropoff_longitude',\n",
        "                  'dropoff_latitude', 'pickup_latitude', 'pickup_longitude']\n",
        "bog_df = bog_df.drop(column_to_drop, axis=1)\n",
        "uio_df = uio_df.drop(column_to_drop, axis=1)\n",
        "mex_df = mex_df.drop(column_to_drop, axis=1)"
      ],
      "metadata": {
        "id": "RmUDR1RQbzkN"
      },
      "execution_count": 121,
      "outputs": []
    },
    {
      "cell_type": "markdown",
      "source": [
        "### The trip durations obtained by subtracting the datetimes is the same as the one registered in the column trip duration."
      ],
      "metadata": {
        "id": "2ih5ME_Vcmoo"
      }
    },
    {
      "cell_type": "code",
      "source": [
        "a = pd.to_datetime(bog_df['pickup_datetime'])\n",
        "b = pd.to_datetime(bog_df['dropoff_datetime'])\n",
        "durations =  (b-a).dt.total_seconds()/3600\n",
        "\n",
        "import numpy as np\n",
        "\n",
        "\n",
        "is_close = np.isclose(bog_df['trip_duration'], durations, rtol=1e-2, atol=1e-3)\n",
        "\n",
        "bog_df = bog_df[is_close]\n"
      ],
      "metadata": {
        "colab": {
          "base_uri": "https://localhost:8080/"
        },
        "id": "OBFAerjhckoD",
        "outputId": "31f86cc1-766b-4eb3-f5d9-4c111c917128"
      },
      "execution_count": 125,
      "outputs": [
        {
          "output_type": "execute_result",
          "data": {
            "text/plain": [
              "np.int64(1917)"
            ]
          },
          "metadata": {},
          "execution_count": 125
        }
      ]
    },
    {
      "cell_type": "code",
      "source": [
        "a = pd.to_datetime(mex_df['pickup_datetime'])\n",
        "b = pd.to_datetime(mex_df['dropoff_datetime'])\n",
        "durations =  (b-a).dt.total_seconds()/3600\n",
        "\n",
        "import numpy as np\n",
        "\n",
        "\n",
        "is_close = np.isclose(mex_df['trip_duration'], durations, rtol=1e-2, atol=1e-3)\n",
        "\n",
        "mex_df = mex_df[is_close]\n"
      ],
      "metadata": {
        "id": "MCl4M7TmevE8"
      },
      "execution_count": 130,
      "outputs": []
    },
    {
      "cell_type": "code",
      "source": [
        "a = pd.to_datetime(uio_df['pickup_datetime'])\n",
        "b = pd.to_datetime(uio_df['dropoff_datetime'])\n",
        "durations =  (b-a).dt.total_seconds()/3600\n",
        "\n",
        "import numpy as np\n",
        "\n",
        "\n",
        "is_close = np.isclose(uio_df['trip_duration'], durations, rtol=1e-2, atol=1e-3)\n",
        "\n",
        "uio_df = uio_df[is_close]"
      ],
      "metadata": {
        "id": "BDP3gaGJfcY0"
      },
      "execution_count": 132,
      "outputs": []
    },
    {
      "cell_type": "markdown",
      "source": [
        "## Distances in km"
      ],
      "metadata": {
        "id": "-UBg1p8bgqYb"
      }
    },
    {
      "cell_type": "code",
      "source": [
        "bog_df['dist_meters'] = bog_df['dist_meters']/1000\n",
        "uio_df['dist_meters'] = uio_df['dist_meters']/1000\n",
        "mex_df['dist_meters'] = mex_df['dist_meters']/1000\n",
        "\n",
        "\n",
        "bog_df['geodetic_dist'] = bog_df['geodetic_dist']/1000\n",
        "uio_df['geodetic_dist'] = uio_df['geodetic_dist']/1000\n",
        "mex_df['geodetic_dist'] = mex_df['geodetic_dist']/1000"
      ],
      "metadata": {
        "colab": {
          "base_uri": "https://localhost:8080/"
        },
        "id": "eBsKMGZMfoV-",
        "outputId": "2f51ac5e-e520-4d92-999d-8b8b8587c538"
      },
      "execution_count": 137,
      "outputs": [
        {
          "output_type": "stream",
          "name": "stderr",
          "text": [
            "<ipython-input-137-ed61cef0974c>:2: SettingWithCopyWarning: \n",
            "A value is trying to be set on a copy of a slice from a DataFrame.\n",
            "Try using .loc[row_indexer,col_indexer] = value instead\n",
            "\n",
            "See the caveats in the documentation: https://pandas.pydata.org/pandas-docs/stable/user_guide/indexing.html#returning-a-view-versus-a-copy\n",
            "  uio_df['dist_meters'] = uio_df['dist_meters']/1000\n",
            "<ipython-input-137-ed61cef0974c>:3: SettingWithCopyWarning: \n",
            "A value is trying to be set on a copy of a slice from a DataFrame.\n",
            "Try using .loc[row_indexer,col_indexer] = value instead\n",
            "\n",
            "See the caveats in the documentation: https://pandas.pydata.org/pandas-docs/stable/user_guide/indexing.html#returning-a-view-versus-a-copy\n",
            "  mex_df['dist_meters'] = mex_df['dist_meters']/1000\n",
            "<ipython-input-137-ed61cef0974c>:7: SettingWithCopyWarning: \n",
            "A value is trying to be set on a copy of a slice from a DataFrame.\n",
            "Try using .loc[row_indexer,col_indexer] = value instead\n",
            "\n",
            "See the caveats in the documentation: https://pandas.pydata.org/pandas-docs/stable/user_guide/indexing.html#returning-a-view-versus-a-copy\n",
            "  uio_df['geodetic_dist'] = uio_df['geodetic_dist']/1000\n",
            "<ipython-input-137-ed61cef0974c>:8: SettingWithCopyWarning: \n",
            "A value is trying to be set on a copy of a slice from a DataFrame.\n",
            "Try using .loc[row_indexer,col_indexer] = value instead\n",
            "\n",
            "See the caveats in the documentation: https://pandas.pydata.org/pandas-docs/stable/user_guide/indexing.html#returning-a-view-versus-a-copy\n",
            "  mex_df['geodetic_dist'] = mex_df['geodetic_dist']/1000\n"
          ]
        }
      ]
    },
    {
      "cell_type": "markdown",
      "source": [
        "# Save all the progress:\n",
        "What's left to do:\n",
        "- Create the categorical feature rush hour\n",
        "\n",
        "- Maybe use the standard scalar\n",
        "\n",
        "\n",
        "- Make a model for each dataset:\n",
        "  - Try ridge regressor\n",
        "  - Try LightGBM\n",
        "  - The pipeline should be of the following, the city entry is checked, is properly rescaled, if need polyfeatures are calculated and then the correct model is employed.\n",
        "\n",
        "\n",
        "Keep in mind:\n",
        "- dist and velocities are obviously correlated\n",
        "- dist and geo_dist are correlated as well\n",
        "- velocities are of the form dist/y where y is our target variable. Thus, a linear model will never be satisfying"
      ],
      "metadata": {
        "id": "GJT3_8ywhcVv"
      }
    },
    {
      "cell_type": "code",
      "source": [
        "import os\n",
        "import pandas as pd\n",
        "\n",
        "# Define path inside Google Drive\n",
        "drive_path = '/content/drive/MyDrive/datasets'\n",
        "\n",
        "# Create the folder if it doesn't exist\n",
        "os.makedirs(drive_path, exist_ok=True)\n",
        "\n",
        "# Save your DataFrame as CSV\n",
        "bog_df.to_csv(os.path.join(drive_path, 'bog_df.csv'), index=False)\n",
        "mex_df.to_csv(os.path.join(drive_path, 'mex_df.csv'), index=False)\n",
        "uio_df.to_csv(os.path.join(drive_path, 'uio_df.csv'), index=False)"
      ],
      "metadata": {
        "id": "7hCbkiWQiBeH"
      },
      "execution_count": 141,
      "outputs": []
    }
  ]
}