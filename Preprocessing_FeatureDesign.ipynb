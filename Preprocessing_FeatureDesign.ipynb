{
  "nbformat": 4,
  "nbformat_minor": 0,
  "metadata": {
    "colab": {
      "provenance": [],
      "authorship_tag": "ABX9TyMzeBsrO0SyHaBkVUNP3z5T",
      "include_colab_link": true
    },
    "kernelspec": {
      "name": "python3",
      "display_name": "Python 3"
    },
    "language_info": {
      "name": "python"
    }
  },
  "cells": [
    {
      "cell_type": "markdown",
      "metadata": {
        "id": "view-in-github",
        "colab_type": "text"
      },
      "source": [
        "<a href=\"https://colab.research.google.com/github/MatteoAldovardi92/Taxi_Project/blob/main/Preprocessing_FeatureDesign.ipynb\" target=\"_parent\"><img src=\"https://colab.research.google.com/assets/colab-badge.svg\" alt=\"Open In Colab\"/></a>"
      ]
    },
    {
      "cell_type": "code",
      "source": [
        "# To save a copy to be retrived from other notebooks\n",
        "from google.colab import drive\n",
        "drive.mount('/content/drive')\n"
      ],
      "metadata": {
        "colab": {
          "base_uri": "https://localhost:8080/"
        },
        "id": "V-w8oL8nrFnH",
        "outputId": "b61b6036-5d70-4486-fc7b-916d904f58e1"
      },
      "execution_count": null,
      "outputs": [
        {
          "output_type": "stream",
          "name": "stdout",
          "text": [
            "Drive already mounted at /content/drive; to attempt to forcibly remount, call drive.mount(\"/content/drive\", force_remount=True).\n"
          ]
        }
      ]
    },
    {
      "cell_type": "code",
      "source": [
        "import pandas as pd\n",
        "combined_df = pd.read_csv('/content/drive/MyDrive/datasets/combined_dataset.csv')\n",
        "combined_df['city_id'].value_counts()\n"
      ],
      "metadata": {
        "colab": {
          "base_uri": "https://localhost:8080/",
          "height": 209
        },
        "id": "rdnQ_rPptnNb",
        "outputId": "c8ca4cae-21a4-4e64-9200-34a54a14c54c"
      },
      "execution_count": null,
      "outputs": [
        {
          "output_type": "execute_result",
          "data": {
            "text/plain": [
              "city_id\n",
              "quito     32298\n",
              "mexico    12652\n",
              "bogota     3052\n",
              "Name: count, dtype: int64"
            ],
            "text/html": [
              "<div>\n",
              "<style scoped>\n",
              "    .dataframe tbody tr th:only-of-type {\n",
              "        vertical-align: middle;\n",
              "    }\n",
              "\n",
              "    .dataframe tbody tr th {\n",
              "        vertical-align: top;\n",
              "    }\n",
              "\n",
              "    .dataframe thead th {\n",
              "        text-align: right;\n",
              "    }\n",
              "</style>\n",
              "<table border=\"1\" class=\"dataframe\">\n",
              "  <thead>\n",
              "    <tr style=\"text-align: right;\">\n",
              "      <th></th>\n",
              "      <th>count</th>\n",
              "    </tr>\n",
              "    <tr>\n",
              "      <th>city_id</th>\n",
              "      <th></th>\n",
              "    </tr>\n",
              "  </thead>\n",
              "  <tbody>\n",
              "    <tr>\n",
              "      <th>quito</th>\n",
              "      <td>32298</td>\n",
              "    </tr>\n",
              "    <tr>\n",
              "      <th>mexico</th>\n",
              "      <td>12652</td>\n",
              "    </tr>\n",
              "    <tr>\n",
              "      <th>bogota</th>\n",
              "      <td>3052</td>\n",
              "    </tr>\n",
              "  </tbody>\n",
              "</table>\n",
              "</div><br><label><b>dtype:</b> int64</label>"
            ]
          },
          "metadata": {},
          "execution_count": 133
        }
      ]
    },
    {
      "cell_type": "code",
      "source": [
        "import kagglehub\n",
        "import os\n",
        "import pandas as pd\n",
        "import kagglehub\n",
        "\n",
        "\n",
        "\n",
        "# Download latest version\n",
        "path = kagglehub.dataset_download(\"mnavas/taxi-routes-for-mexico-city-and-quito\")\n",
        "\n",
        "print(\"Path to dataset files:\", path)\n",
        "\n",
        "\n",
        "# Show files inside the dataset directory\n",
        "print(\"Dataset contents:\")\n",
        "for root, dirs, files in os.walk(path):\n",
        "    for name in files:\n",
        "        print(os.path.join(root, name))\n",
        "\n",
        "# Download the dataset\n",
        "path = kagglehub.dataset_download(\"mnavas/taxi-routes-for-mexico-city-and-quito\")\n",
        "\n",
        "# Load each CSV as a separate DataFrame\n",
        "bog_df = pd.read_csv(os.path.join(path, \"bog_clean.csv\"))\n",
        "uio_df = pd.read_csv(os.path.join(path, \"uio_clean.csv\"))\n",
        "mex_df = pd.read_csv(os.path.join(path, \"mex_clean.csv\"))\n",
        "all_df = pd.read_csv(os.path.join(path, \"all-data_clean.csv\"))\n",
        "\n",
        "# Preview one\n",
        "print(all_df.head())\n",
        "\n",
        "\n"
      ],
      "metadata": {
        "colab": {
          "base_uri": "https://localhost:8080/"
        },
        "id": "DSWwjGcEkoUK",
        "outputId": "b617f3d2-7e3e-49db-e493-ef288224ece7"
      },
      "execution_count": null,
      "outputs": [
        {
          "output_type": "stream",
          "name": "stdout",
          "text": [
            "Path to dataset files: /kaggle/input/taxi-routes-for-mexico-city-and-quito\n",
            "Dataset contents:\n",
            "/kaggle/input/taxi-routes-for-mexico-city-and-quito/mex_clean.csv\n",
            "/kaggle/input/taxi-routes-for-mexico-city-and-quito/uio_clean.csv\n",
            "/kaggle/input/taxi-routes-for-mexico-city-and-quito/all-data_clean.csv\n",
            "/kaggle/input/taxi-routes-for-mexico-city-and-quito/bog_clean.csv\n",
            "   id              vendor_id      pickup_datetime     dropoff_datetime  \\\n",
            "0   1                  Quito  2016-09-17 09:32:06  2016-09-17 10:05:51   \n",
            "1   2  Guadalajara Easy Taxi  2016-09-17 09:59:54  2016-09-17 10:06:23   \n",
            "2   3              Monterrey  2016-09-17 10:06:52  2016-09-17 10:09:40   \n",
            "3   4              Monterrey  2016-09-17 09:45:56  2016-09-17 10:13:34   \n",
            "4   5              Monterrey  2016-09-17 10:12:00  2016-09-17 10:16:31   \n",
            "\n",
            "   pickup_longitude  pickup_latitude  dropoff_longitude  dropoff_latitude  \\\n",
            "0          0.632055         0.528947         -78.549447         -0.361363   \n",
            "1          0.327804         0.391950        -103.366600         20.686971   \n",
            "2          0.140910         0.563280        -100.165737         25.619387   \n",
            "3          0.207565         0.590416        -100.491721         25.676294   \n",
            "4          0.128881         0.580419        -100.104166         25.643862   \n",
            "\n",
            "  store_and_fwd_flag  trip_duration  dist_meters  wait_sec  \n",
            "0                  N           2025        24228       346  \n",
            "1                  N            389         2962      3675  \n",
            "2                  N            168          951         0  \n",
            "3                  N           1659        11082       358  \n",
            "4                  N            272         2021      3614  \n"
          ]
        }
      ]
    },
    {
      "cell_type": "markdown",
      "source": [
        "# Description of trip duration and desining of the rush hour variable."
      ],
      "metadata": {
        "id": "bZaootDJl3DV"
      }
    },
    {
      "cell_type": "markdown",
      "source": [
        "### 🚕 Trip Duration Filtering Strategy\n",
        "\n",
        "The first rational filtering approach is based on **physical feasibility**:  \n",
        "To define a hard upper bound for trip duration, I consider the **worst-case scenario** — the **longest possible trip** at the **lowest reasonable average speed**.\n",
        "\n",
        "However, while this would ideally rely on accurate trip **distances**, the dataset contains some **inadmissible distance values**, so I must filter the `trip_duration` feature **separately**.\n",
        "\n",
        "To estimate an upper bound:\n",
        "\n",
        "- The **maximum possible trip distance is 120 km**, based on how I previously clipped the coordinate points.\n",
        "- I assume a **minimum average speed** of **20 km/h**, below which a motorized taxi would generally not be an optable choice.\n",
        "\n",
        "Using these values, I obtain a conservative upper limit on duration:\n",
        "\n",
        "$$\n",
        "\\frac{120\\ \\text{km}}{20\\ \\text{km/h}} = 6\\ \\text{hours}\n",
        "$$\n",
        "\n",
        "To apply an even stricter filter, I round down slightly:\n",
        "\n",
        "$$\n",
        "\\frac{100\\ \\text{km}}{20\\ \\text{km/h}} = 5\\ \\text{hours}\n",
        "$$\n",
        "\n",
        "As a result, I filter out any trips longer than **5 hours** (18,000 seconds), as they are likely to be **data errors** or **non-taxi rides**:\n",
        "\n",
        "```python\n",
        "combined_df = combined_df[(combined_df['trip_duration'] <= 5 * 3600) & (combined_df['trip_duration'] > 0) ]\n",
        "\n"
      ],
      "metadata": {
        "id": "43Qww3Mj4cDl"
      }
    },
    {
      "cell_type": "code",
      "source": [
        "combined_df = combined_df[(combined_df['trip_duration'] <= 5 * 3600) & (combined_df['trip_duration'] > 0) ]"
      ],
      "metadata": {
        "id": "t8f9MueP6SX1"
      },
      "execution_count": null,
      "outputs": []
    },
    {
      "cell_type": "code",
      "source": [
        "import matplotlib.pyplot as plt\n",
        "import seaborn as sns\n",
        "\n",
        "plt.figure(figsize=(12, 6))\n",
        "\n",
        "# Plot histogram with log scale for y-axis if there are many short trips\n",
        "sns.histplot(combined_df['trip_duration'], bins=100, kde=False, color='skyblue')\n",
        "\n",
        "plt.title('Frequency Distribution of Trip Durations')\n",
        "plt.xlabel('Trip Duration (minutes)')\n",
        "plt.ylabel('Frequency')\n",
        "plt.grid(True)\n",
        "plt.tight_layout()\n",
        "plt.show()\n"
      ],
      "metadata": {
        "colab": {
          "base_uri": "https://localhost:8080/",
          "height": 432
        },
        "id": "q_UxPpj3v7g2",
        "outputId": "2e9864c8-19e7-4b78-da32-272bbf825d4e"
      },
      "execution_count": null,
      "outputs": [
        {
          "output_type": "display_data",
          "data": {
            "text/plain": [
              "<Figure size 1200x600 with 1 Axes>"
            ],
            "image/png": "[encoded data removed]"
          },
          "metadata": {}
        }
      ]
    },
    {
      "cell_type": "code",
      "source": [
        "combined_df['trip_duration'].describe()\n",
        "17802/3600"
      ],
      "metadata": {
        "colab": {
          "base_uri": "https://localhost:8080/"
        },
        "id": "HiR9zojXwMBr",
        "outputId": "0b2bc3f6-8185-4708-cd58-8a40d3bb9b0b"
      },
      "execution_count": null,
      "outputs": [
        {
          "output_type": "execute_result",
          "data": {
            "text/plain": [
              "4.945"
            ]
          },
          "metadata": {},
          "execution_count": 138
        }
      ]
    },
    {
      "cell_type": "code",
      "source": [
        "combined_df['trip_duration'].describe()"
      ],
      "metadata": {
        "colab": {
          "base_uri": "https://localhost:8080/",
          "height": 335
        },
        "id": "ajScR5GEw_HH",
        "outputId": "407ce0b8-a82e-4d43-ed9d-d15be6b7ae37"
      },
      "execution_count": null,
      "outputs": [
        {
          "output_type": "execute_result",
          "data": {
            "text/plain": [
              "count    44416.000000\n",
              "mean      1462.196438\n",
              "std       2036.942891\n",
              "min          2.000000\n",
              "25%        468.000000\n",
              "50%        863.000000\n",
              "75%       1578.000000\n",
              "max      17955.000000\n",
              "Name: trip_duration, dtype: float64"
            ],
            "text/html": [
              "<div>\n",
              "<style scoped>\n",
              "    .dataframe tbody tr th:only-of-type {\n",
              "        vertical-align: middle;\n",
              "    }\n",
              "\n",
              "    .dataframe tbody tr th {\n",
              "        vertical-align: top;\n",
              "    }\n",
              "\n",
              "    .dataframe thead th {\n",
              "        text-align: right;\n",
              "    }\n",
              "</style>\n",
              "<table border=\"1\" class=\"dataframe\">\n",
              "  <thead>\n",
              "    <tr style=\"text-align: right;\">\n",
              "      <th></th>\n",
              "      <th>trip_duration</th>\n",
              "    </tr>\n",
              "  </thead>\n",
              "  <tbody>\n",
              "    <tr>\n",
              "      <th>count</th>\n",
              "      <td>44416.000000</td>\n",
              "    </tr>\n",
              "    <tr>\n",
              "      <th>mean</th>\n",
              "      <td>1462.196438</td>\n",
              "    </tr>\n",
              "    <tr>\n",
              "      <th>std</th>\n",
              "      <td>2036.942891</td>\n",
              "    </tr>\n",
              "    <tr>\n",
              "      <th>min</th>\n",
              "      <td>2.000000</td>\n",
              "    </tr>\n",
              "    <tr>\n",
              "      <th>25%</th>\n",
              "      <td>468.000000</td>\n",
              "    </tr>\n",
              "    <tr>\n",
              "      <th>50%</th>\n",
              "      <td>863.000000</td>\n",
              "    </tr>\n",
              "    <tr>\n",
              "      <th>75%</th>\n",
              "      <td>1578.000000</td>\n",
              "    </tr>\n",
              "    <tr>\n",
              "      <th>max</th>\n",
              "      <td>17955.000000</td>\n",
              "    </tr>\n",
              "  </tbody>\n",
              "</table>\n",
              "</div><br><label><b>dtype:</b> float64</label>"
            ]
          },
          "metadata": {},
          "execution_count": 139
        }
      ]
    },
    {
      "cell_type": "code",
      "source": [
        "combined_df"
      ],
      "metadata": {
        "colab": {
          "base_uri": "https://localhost:8080/",
          "height": 617
        },
        "id": "K8qwY8Db3M44",
        "outputId": "4aa495fa-205c-430b-aae4-84e2829c3213"
      },
      "execution_count": null,
      "outputs": [
        {
          "output_type": "execute_result",
          "data": {
            "text/plain": [
              "      vendor_id      pickup_datetime     dropoff_datetime  pickup_longitude  \\\n",
              "0         Quito  2016-09-17 09:32:06  2016-09-17 10:05:51        -78.503922   \n",
              "1         Quito  2016-09-18 04:03:20  2016-09-18 04:26:30        -78.440306   \n",
              "3         Quito  2016-09-18 05:57:47  2016-09-18 06:30:00        -78.558076   \n",
              "4         Quito  2016-09-18 07:58:42  2016-09-18 08:14:29        -78.521818   \n",
              "5         Quito  2016-08-27 04:19:02  2016-08-27 04:44:12        -78.509202   \n",
              "...         ...                  ...                  ...               ...   \n",
              "32291     Quito  2016-10-27 08:13:06  2016-10-27 08:26:49        -78.559305   \n",
              "32292     Quito  2016-10-27 07:43:47  2016-10-27 08:52:40        -78.501332   \n",
              "32293     Quito  2016-10-27 08:36:09  2016-10-27 09:19:59        -78.485382   \n",
              "32296     Quito  2016-10-25 04:58:55  2016-10-25 05:00:25        -78.550264   \n",
              "32297     Quito  2016-10-28 06:47:59  2016-10-28 06:58:31        -78.431986   \n",
              "\n",
              "       pickup_latitude  dropoff_longitude  dropoff_latitude  \\\n",
              "0            -0.232824         -78.549447         -0.361363   \n",
              "1             0.006789         -78.490786         -0.104836   \n",
              "3            -0.278241         -78.430220         -0.201934   \n",
              "4            -0.208480         -78.504558         -0.222462   \n",
              "5            -0.194839         -78.518764         -0.228794   \n",
              "...                ...                ...               ...   \n",
              "32291        -0.279975         -78.554070         -0.314890   \n",
              "32292        -0.205046         -78.429927         -0.329160   \n",
              "32293        -0.174790         -78.487138         -0.175598   \n",
              "32296        -0.256730         -78.550306         -0.256756   \n",
              "32297        -0.341538         -78.446296         -0.327428   \n",
              "\n",
              "      store_and_fwd_flag  trip_duration  dist_meters  wait_sec city_id  \n",
              "0                      N           2025        24228       346   quito  \n",
              "1                      N           1390        16680       456   quito  \n",
              "3                      N           1933        25146       302   quito  \n",
              "4                      N            948         4625       314   quito  \n",
              "5                      N           1510         5820       630   quito  \n",
              "...                  ...            ...          ...       ...     ...  \n",
              "32291                  N            823         5012       198   quito  \n",
              "32292                  N           4133        17581      1165   quito  \n",
              "32293                  N           2631         4872      2006   quito  \n",
              "32296                  N             91           43        70   quito  \n",
              "32297                  N            633         3296       150   quito  \n",
              "\n",
              "[30086 rows x 12 columns]"
            ],
            "text/html": [
              "\n",
              "  <div id=\"df-72b38dbb-b1a3-4bf8-8355-d5f411049d20\" class=\"colab-df-container\">\n",
              "    <div>\n",
              "<style scoped>\n",
              "    .dataframe tbody tr th:only-of-type {\n",
              "        vertical-align: middle;\n",
              "    }\n",
              "\n",
              "    .dataframe tbody tr th {\n",
              "        vertical-align: top;\n",
              "    }\n",
              "\n",
              "    .dataframe thead th {\n",
              "        text-align: right;\n",
              "    }\n",
              "</style>\n",
              "<table border=\"1\" class=\"dataframe\">\n",
              "  <thead>\n",
              "    <tr style=\"text-align: right;\">\n",
              "      <th></th>\n",
              "      <th>vendor_id</th>\n",
              "      <th>pickup_datetime</th>\n",
              "      <th>dropoff_datetime</th>\n",
              "      <th>pickup_longitude</th>\n",
              "      <th>pickup_latitude</th>\n",
              "      <th>dropoff_longitude</th>\n",
              "      <th>dropoff_latitude</th>\n",
              "      <th>store_and_fwd_flag</th>\n",
              "      <th>trip_duration</th>\n",
              "      <th>dist_meters</th>\n",
              "      <th>wait_sec</th>\n",
              "      <th>city_id</th>\n",
              "    </tr>\n",
              "  </thead>\n",
              "  <tbody>\n",
              "    <tr>\n",
              "      <th>0</th>\n",
              "      <td>Quito</td>\n",
              "      <td>2016-09-17 09:32:06</td>\n",
              "      <td>2016-09-17 10:05:51</td>\n",
              "      <td>-78.503922</td>\n",
              "      <td>-0.232824</td>\n",
              "      <td>-78.549447</td>\n",
              "      <td>-0.361363</td>\n",
              "      <td>N</td>\n",
              "      <td>2025</td>\n",
              "      <td>24228</td>\n",
              "      <td>346</td>\n",
              "      <td>quito</td>\n",
              "    </tr>\n",
              "    <tr>\n",
              "      <th>1</th>\n",
              "      <td>Quito</td>\n",
              "      <td>2016-09-18 04:03:20</td>\n",
              "      <td>2016-09-18 04:26:30</td>\n",
              "      <td>-78.440306</td>\n",
              "      <td>0.006789</td>\n",
              "      <td>-78.490786</td>\n",
              "      <td>-0.104836</td>\n",
              "      <td>N</td>\n",
              "      <td>1390</td>\n",
              "      <td>16680</td>\n",
              "      <td>456</td>\n",
              "      <td>quito</td>\n",
              "    </tr>\n",
              "    <tr>\n",
              "      <th>3</th>\n",
              "      <td>Quito</td>\n",
              "      <td>2016-09-18 05:57:47</td>\n",
              "      <td>2016-09-18 06:30:00</td>\n",
              "      <td>-78.558076</td>\n",
              "      <td>-0.278241</td>\n",
              "      <td>-78.430220</td>\n",
              "      <td>-0.201934</td>\n",
              "      <td>N</td>\n",
              "      <td>1933</td>\n",
              "      <td>25146</td>\n",
              "      <td>302</td>\n",
              "      <td>quito</td>\n",
              "    </tr>\n",
              "    <tr>\n",
              "      <th>4</th>\n",
              "      <td>Quito</td>\n",
              "      <td>2016-09-18 07:58:42</td>\n",
              "      <td>2016-09-18 08:14:29</td>\n",
              "      <td>-78.521818</td>\n",
              "      <td>-0.208480</td>\n",
              "      <td>-78.504558</td>\n",
              "      <td>-0.222462</td>\n",
              "      <td>N</td>\n",
              "      <td>948</td>\n",
              "      <td>4625</td>\n",
              "      <td>314</td>\n",
              "      <td>quito</td>\n",
              "    </tr>\n",
              "    <tr>\n",
              "      <th>5</th>\n",
              "      <td>Quito</td>\n",
              "      <td>2016-08-27 04:19:02</td>\n",
              "      <td>2016-08-27 04:44:12</td>\n",
              "      <td>-78.509202</td>\n",
              "      <td>-0.194839</td>\n",
              "      <td>-78.518764</td>\n",
              "      <td>-0.228794</td>\n",
              "      <td>N</td>\n",
              "      <td>1510</td>\n",
              "      <td>5820</td>\n",
              "      <td>630</td>\n",
              "      <td>quito</td>\n",
              "    </tr>\n",
              "    <tr>\n",
              "      <th>...</th>\n",
              "      <td>...</td>\n",
              "      <td>...</td>\n",
              "      <td>...</td>\n",
              "      <td>...</td>\n",
              "      <td>...</td>\n",
              "      <td>...</td>\n",
              "      <td>...</td>\n",
              "      <td>...</td>\n",
              "      <td>...</td>\n",
              "      <td>...</td>\n",
              "      <td>...</td>\n",
              "      <td>...</td>\n",
              "    </tr>\n",
              "    <tr>\n",
              "      <th>32291</th>\n",
              "      <td>Quito</td>\n",
              "      <td>2016-10-27 08:13:06</td>\n",
              "      <td>2016-10-27 08:26:49</td>\n",
              "      <td>-78.559305</td>\n",
              "      <td>-0.279975</td>\n",
              "      <td>-78.554070</td>\n",
              "      <td>-0.314890</td>\n",
              "      <td>N</td>\n",
              "      <td>823</td>\n",
              "      <td>5012</td>\n",
              "      <td>198</td>\n",
              "      <td>quito</td>\n",
              "    </tr>\n",
              "    <tr>\n",
              "      <th>32292</th>\n",
              "      <td>Quito</td>\n",
              "      <td>2016-10-27 07:43:47</td>\n",
              "      <td>2016-10-27 08:52:40</td>\n",
              "      <td>-78.501332</td>\n",
              "      <td>-0.205046</td>\n",
              "      <td>-78.429927</td>\n",
              "      <td>-0.329160</td>\n",
              "      <td>N</td>\n",
              "      <td>4133</td>\n",
              "      <td>17581</td>\n",
              "      <td>1165</td>\n",
              "      <td>quito</td>\n",
              "    </tr>\n",
              "    <tr>\n",
              "      <th>32293</th>\n",
              "      <td>Quito</td>\n",
              "      <td>2016-10-27 08:36:09</td>\n",
              "      <td>2016-10-27 09:19:59</td>\n",
              "      <td>-78.485382</td>\n",
              "      <td>-0.174790</td>\n",
              "      <td>-78.487138</td>\n",
              "      <td>-0.175598</td>\n",
              "      <td>N</td>\n",
              "      <td>2631</td>\n",
              "      <td>4872</td>\n",
              "      <td>2006</td>\n",
              "      <td>quito</td>\n",
              "    </tr>\n",
              "    <tr>\n",
              "      <th>32296</th>\n",
              "      <td>Quito</td>\n",
              "      <td>2016-10-25 04:58:55</td>\n",
              "      <td>2016-10-25 05:00:25</td>\n",
              "      <td>-78.550264</td>\n",
              "      <td>-0.256730</td>\n",
              "      <td>-78.550306</td>\n",
              "      <td>-0.256756</td>\n",
              "      <td>N</td>\n",
              "      <td>91</td>\n",
              "      <td>43</td>\n",
              "      <td>70</td>\n",
              "      <td>quito</td>\n",
              "    </tr>\n",
              "    <tr>\n",
              "      <th>32297</th>\n",
              "      <td>Quito</td>\n",
              "      <td>2016-10-28 06:47:59</td>\n",
              "      <td>2016-10-28 06:58:31</td>\n",
              "      <td>-78.431986</td>\n",
              "      <td>-0.341538</td>\n",
              "      <td>-78.446296</td>\n",
              "      <td>-0.327428</td>\n",
              "      <td>N</td>\n",
              "      <td>633</td>\n",
              "      <td>3296</td>\n",
              "      <td>150</td>\n",
              "      <td>quito</td>\n",
              "    </tr>\n",
              "  </tbody>\n",
              "</table>\n",
              "<p>30086 rows × 12 columns</p>\n",
              "</div>\n",
              "    <div class=\"colab-df-buttons\">\n",
              "\n",
              "  <div class=\"colab-df-container\">\n",
              "    <button class=\"colab-df-convert\" onclick=\"convertToInteractive('df-72b38dbb-b1a3-4bf8-8355-d5f411049d20')\"\n",
              "            title=\"Convert this dataframe to an interactive table.\"\n",
              "            style=\"display:none;\">\n",
              "\n",
              "  <svg xmlns=\"http://www.w3.org/2000/svg\" height=\"24px\" viewBox=\"0 -960 960 960\">\n",
              "    <path d=\"M120-120v-720h720v720H120Zm60-500h600v-160H180v160Zm220 220h160v-160H400v160Zm0 220h160v-160H400v160ZM180-400h160v-160H180v160Zm440 0h160v-160H620v160ZM180-180h160v-160H180v160Zm440 0h160v-160H620v160Z\"/>\n",
              "  </svg>\n",
              "    </button>\n",
              "\n",
              "  <style>\n",
              "    .colab-df-container {\n",
              "      display:flex;\n",
              "      gap: 12px;\n",
              "    }\n",
              "\n",
              "    .colab-df-convert {\n",
              "      background-color: #E8F0FE;\n",
              "      border: none;\n",
              "      border-radius: 50%;\n",
              "      cursor: pointer;\n",
              "      display: none;\n",
              "      fill: #1967D2;\n",
              "      height: 32px;\n",
              "      padding: 0 0 0 0;\n",
              "      width: 32px;\n",
              "    }\n",
              "\n",
              "    .colab-df-convert:hover {\n",
              "      background-color: #E2EBFA;\n",
              "      box-shadow: 0px 1px 2px rgba(60, 64, 67, 0.3), 0px 1px 3px 1px rgba(60, 64, 67, 0.15);\n",
              "      fill: #174EA6;\n",
              "    }\n",
              "\n",
              "    .colab-df-buttons div {\n",
              "      margin-bottom: 4px;\n",
              "    }\n",
              "\n",
              "    [theme=dark] .colab-df-convert {\n",
              "      background-color: #3B4455;\n",
              "      fill: #D2E3FC;\n",
              "    }\n",
              "\n",
              "    [theme=dark] .colab-df-convert:hover {\n",
              "      background-color: #434B5C;\n",
              "      box-shadow: 0px 1px 3px 1px rgba(0, 0, 0, 0.15);\n",
              "      filter: drop-shadow(0px 1px 2px rgba(0, 0, 0, 0.3));\n",
              "      fill: #FFFFFF;\n",
              "    }\n",
              "  </style>\n",
              "\n",
              "    <script>\n",
              "      const buttonEl =\n",
              "        document.querySelector('#df-72b38dbb-b1a3-4bf8-8355-d5f411049d20 button.colab-df-convert');\n",
              "      buttonEl.style.display =\n",
              "        google.colab.kernel.accessAllowed ? 'block' : 'none';\n",
              "\n",
              "      async function convertToInteractive(key) {\n",
              "        const element = document.querySelector('#df-72b38dbb-b1a3-4bf8-8355-d5f411049d20');\n",
              "        const dataTable =\n",
              "          await google.colab.kernel.invokeFunction('convertToInteractive',\n",
              "                                                    [key], {});\n",
              "        if (!dataTable) return;\n",
              "\n",
              "        const docLinkHtml = 'Like what you see? Visit the ' +\n",
              "          '<a target=\"_blank\" href=https://colab.research.google.com/notebooks/data_table.ipynb>data table notebook</a>'\n",
              "          + ' to learn more about interactive tables.';\n",
              "        element.innerHTML = '';\n",
              "        dataTable['output_type'] = 'display_data';\n",
              "        await google.colab.output.renderOutput(dataTable, element);\n",
              "        const docLink = document.createElement('div');\n",
              "        docLink.innerHTML = docLinkHtml;\n",
              "        element.appendChild(docLink);\n",
              "      }\n",
              "    </script>\n",
              "  </div>\n",
              "\n",
              "\n",
              "    <div id=\"df-988a5bcc-6e21-45d4-919e-fae6ded53e85\">\n",
              "      <button class=\"colab-df-quickchart\" onclick=\"quickchart('df-988a5bcc-6e21-45d4-919e-fae6ded53e85')\"\n",
              "                title=\"Suggest charts\"\n",
              "                style=\"display:none;\">\n",
              "\n",
              "<svg xmlns=\"http://www.w3.org/2000/svg\" height=\"24px\"viewBox=\"0 0 24 24\"\n",
              "     width=\"24px\">\n",
              "    <g>\n",
              "        <path d=\"M19 3H5c-1.1 0-2 .9-2 2v14c0 1.1.9 2 2 2h14c1.1 0 2-.9 2-2V5c0-1.1-.9-2-2-2zM9 17H7v-7h2v7zm4 0h-2V7h2v10zm4 0h-2v-4h2v4z\"/>\n",
              "    </g>\n",
              "</svg>\n",
              "      </button>\n",
              "\n",
              "<style>\n",
              "  .colab-df-quickchart {\n",
              "      --bg-color: #E8F0FE;\n",
              "      --fill-color: #1967D2;\n",
              "      --hover-bg-color: #E2EBFA;\n",
              "      --hover-fill-color: #174EA6;\n",
              "      --disabled-fill-color: #AAA;\n",
              "      --disabled-bg-color: #DDD;\n",
              "  }\n",
              "\n",
              "  [theme=dark] .colab-df-quickchart {\n",
              "      --bg-color: #3B4455;\n",
              "      --fill-color: #D2E3FC;\n",
              "      --hover-bg-color: #434B5C;\n",
              "      --hover-fill-color: #FFFFFF;\n",
              "      --disabled-bg-color: #3B4455;\n",
              "      --disabled-fill-color: #666;\n",
              "  }\n",
              "\n",
              "  .colab-df-quickchart {\n",
              "    background-color: var(--bg-color);\n",
              "    border: none;\n",
              "    border-radius: 50%;\n",
              "    cursor: pointer;\n",
              "    display: none;\n",
              "    fill: var(--fill-color);\n",
              "    height: 32px;\n",
              "    padding: 0;\n",
              "    width: 32px;\n",
              "  }\n",
              "\n",
              "  .colab-df-quickchart:hover {\n",
              "    background-color: var(--hover-bg-color);\n",
              "    box-shadow: 0 1px 2px rgba(60, 64, 67, 0.3), 0 1px 3px 1px rgba(60, 64, 67, 0.15);\n",
              "    fill: var(--button-hover-fill-color);\n",
              "  }\n",
              "\n",
              "  .colab-df-quickchart-complete:disabled,\n",
              "  .colab-df-quickchart-complete:disabled:hover {\n",
              "    background-color: var(--disabled-bg-color);\n",
              "    fill: var(--disabled-fill-color);\n",
              "    box-shadow: none;\n",
              "  }\n",
              "\n",
              "  .colab-df-spinner {\n",
              "    border: 2px solid var(--fill-color);\n",
              "    border-color: transparent;\n",
              "    border-bottom-color: var(--fill-color);\n",
              "    animation:\n",
              "      spin 1s steps(1) infinite;\n",
              "  }\n",
              "\n",
              "  @keyframes spin {\n",
              "    0% {\n",
              "      border-color: transparent;\n",
              "      border-bottom-color: var(--fill-color);\n",
              "      border-left-color: var(--fill-color);\n",
              "    }\n",
              "    20% {\n",
              "      border-color: transparent;\n",
              "      border-left-color: var(--fill-color);\n",
              "      border-top-color: var(--fill-color);\n",
              "    }\n",
              "    30% {\n",
              "      border-color: transparent;\n",
              "      border-left-color: var(--fill-color);\n",
              "      border-top-color: var(--fill-color);\n",
              "      border-right-color: var(--fill-color);\n",
              "    }\n",
              "    40% {\n",
              "      border-color: transparent;\n",
              "      border-right-color: var(--fill-color);\n",
              "      border-top-color: var(--fill-color);\n",
              "    }\n",
              "    60% {\n",
              "      border-color: transparent;\n",
              "      border-right-color: var(--fill-color);\n",
              "    }\n",
              "    80% {\n",
              "      border-color: transparent;\n",
              "      border-right-color: var(--fill-color);\n",
              "      border-bottom-color: var(--fill-color);\n",
              "    }\n",
              "    90% {\n",
              "      border-color: transparent;\n",
              "      border-bottom-color: var(--fill-color);\n",
              "    }\n",
              "  }\n",
              "</style>\n",
              "\n",
              "      <script>\n",
              "        async function quickchart(key) {\n",
              "          const quickchartButtonEl =\n",
              "            document.querySelector('#' + key + ' button');\n",
              "          quickchartButtonEl.disabled = true;  // To prevent multiple clicks.\n",
              "          quickchartButtonEl.classList.add('colab-df-spinner');\n",
              "          try {\n",
              "            const charts = await google.colab.kernel.invokeFunction(\n",
              "                'suggestCharts', [key], {});\n",
              "          } catch (error) {\n",
              "            console.error('Error during call to suggestCharts:', error);\n",
              "          }\n",
              "          quickchartButtonEl.classList.remove('colab-df-spinner');\n",
              "          quickchartButtonEl.classList.add('colab-df-quickchart-complete');\n",
              "        }\n",
              "        (() => {\n",
              "          let quickchartButtonEl =\n",
              "            document.querySelector('#df-988a5bcc-6e21-45d4-919e-fae6ded53e85 button');\n",
              "          quickchartButtonEl.style.display =\n",
              "            google.colab.kernel.accessAllowed ? 'block' : 'none';\n",
              "        })();\n",
              "      </script>\n",
              "    </div>\n",
              "\n",
              "  <div id=\"id_ca7578cc-38f4-41ff-8f9d-e0cf90d73856\">\n",
              "    <style>\n",
              "      .colab-df-generate {\n",
              "        background-color: #E8F0FE;\n",
              "        border: none;\n",
              "        border-radius: 50%;\n",
              "        cursor: pointer;\n",
              "        display: none;\n",
              "        fill: #1967D2;\n",
              "        height: 32px;\n",
              "        padding: 0 0 0 0;\n",
              "        width: 32px;\n",
              "      }\n",
              "\n",
              "      .colab-df-generate:hover {\n",
              "        background-color: #E2EBFA;\n",
              "        box-shadow: 0px 1px 2px rgba(60, 64, 67, 0.3), 0px 1px 3px 1px rgba(60, 64, 67, 0.15);\n",
              "        fill: #174EA6;\n",
              "      }\n",
              "\n",
              "      [theme=dark] .colab-df-generate {\n",
              "        background-color: #3B4455;\n",
              "        fill: #D2E3FC;\n",
              "      }\n",
              "\n",
              "      [theme=dark] .colab-df-generate:hover {\n",
              "        background-color: #434B5C;\n",
              "        box-shadow: 0px 1px 3px 1px rgba(0, 0, 0, 0.15);\n",
              "        filter: drop-shadow(0px 1px 2px rgba(0, 0, 0, 0.3));\n",
              "        fill: #FFFFFF;\n",
              "      }\n",
              "    </style>\n",
              "    <button class=\"colab-df-generate\" onclick=\"generateWithVariable('combined_df')\"\n",
              "            title=\"Generate code using this dataframe.\"\n",
              "            style=\"display:none;\">\n",
              "\n",
              "  <svg xmlns=\"http://www.w3.org/2000/svg\" height=\"24px\"viewBox=\"0 0 24 24\"\n",
              "       width=\"24px\">\n",
              "    <path d=\"M7,19H8.4L18.45,9,17,7.55,7,17.6ZM5,21V16.75L18.45,3.32a2,2,0,0,1,2.83,0l1.4,1.43a1.91,1.91,0,0,1,.58,1.4,1.91,1.91,0,0,1-.58,1.4L9.25,21ZM18.45,9,17,7.55Zm-12,3A5.31,5.31,0,0,0,4.9,8.1,5.31,5.31,0,0,0,1,6.5,5.31,5.31,0,0,0,4.9,4.9,5.31,5.31,0,0,0,6.5,1,5.31,5.31,0,0,0,8.1,4.9,5.31,5.31,0,0,0,12,6.5,5.46,5.46,0,0,0,6.5,12Z\"/>\n",
              "  </svg>\n",
              "    </button>\n",
              "    <script>\n",
              "      (() => {\n",
              "      const buttonEl =\n",
              "        document.querySelector('#id_ca7578cc-38f4-41ff-8f9d-e0cf90d73856 button.colab-df-generate');\n",
              "      buttonEl.style.display =\n",
              "        google.colab.kernel.accessAllowed ? 'block' : 'none';\n",
              "\n",
              "      buttonEl.onclick = () => {\n",
              "        google.colab.notebook.generateWithVariable('combined_df');\n",
              "      }\n",
              "      })();\n",
              "    </script>\n",
              "  </div>\n",
              "\n",
              "    </div>\n",
              "  </div>\n"
            ],
            "application/vnd.google.colaboratory.intrinsic+json": {
              "type": "dataframe",
              "variable_name": "combined_df",
              "summary": "{\n  \"name\": \"combined_df\",\n  \"rows\": 30086,\n  \"fields\": [\n    {\n      \"column\": \"vendor_id\",\n      \"properties\": {\n        \"dtype\": \"category\",\n        \"num_unique_values\": 4,\n        \"samples\": [\n          \"Quito Cabify Lite\",\n          \"Quito UberX\",\n          \"Quito\"\n        ],\n        \"semantic_type\": \"\",\n        \"description\": \"\"\n      }\n    },\n    {\n      \"column\": \"pickup_datetime\",\n      \"properties\": {\n        \"dtype\": \"object\",\n        \"num_unique_values\": 29496,\n        \"samples\": [\n          \"2016-12-25 06:25:07\",\n          \"2016-12-12 08:11:24\",\n          \"2017-01-19 02:34:19\"\n        ],\n        \"semantic_type\": \"\",\n        \"description\": \"\"\n      }\n    },\n    {\n      \"column\": \"dropoff_datetime\",\n      \"properties\": {\n        \"dtype\": \"object\",\n        \"num_unique_values\": 29490,\n        \"samples\": [\n          \"2016-12-21 10:45:19\",\n          \"2017-05-12 06:46:35\",\n          \"2016-12-13 08:34:44\"\n        ],\n        \"semantic_type\": \"\",\n        \"description\": \"\"\n      }\n    },\n    {\n      \"column\": \"pickup_longitude\",\n      \"properties\": {\n        \"dtype\": \"number\",\n        \"std\": 0.029037100138007785,\n        \"min\": -78.7473664591102,\n        \"max\": -78.282943838842,\n        \"num_unique_values\": 29500,\n        \"samples\": [\n          -78.4840773,\n          -78.4877375212647,\n          -78.48744202\n        ],\n        \"semantic_type\": \"\",\n        \"description\": \"\"\n      }\n    },\n    {\n      \"column\": \"pickup_latitude\",\n      \"properties\": {\n        \"dtype\": \"number\",\n        \"std\": 0.05806921207228263,\n        \"min\": -0.516531328311692,\n        \"max\": 0.0179268999999974,\n        \"num_unique_values\": 29513,\n        \"samples\": [\n          -0.265071141252094,\n          -0.331817510414195,\n          -0.185358307692297\n        ],\n        \"semantic_type\": \"\",\n        \"description\": \"\"\n      }\n    },\n    {\n      \"column\": \"dropoff_longitude\",\n      \"properties\": {\n        \"dtype\": \"number\",\n        \"std\": 0.029622252230517992,\n        \"min\": -78.6819861024885,\n        \"max\": -78.2825565090041,\n        \"num_unique_values\": 29506,\n        \"samples\": [\n          -78.5296170705503,\n          -78.545236491165,\n          -78.53356368\n        ],\n        \"semantic_type\": \"\",\n        \"description\": \"\"\n      }\n    },\n    {\n      \"column\": \"dropoff_latitude\",\n      \"properties\": {\n        \"dtype\": \"number\",\n        \"std\": 0.059695497029001905,\n        \"min\": -0.723913120000021,\n        \"max\": 0.0634511909523642,\n        \"num_unique_values\": 29519,\n        \"samples\": [\n          -0.212633420916277,\n          -0.294326525758412,\n          -0.205546200000005\n        ],\n        \"semantic_type\": \"\",\n        \"description\": \"\"\n      }\n    },\n    {\n      \"column\": \"store_and_fwd_flag\",\n      \"properties\": {\n        \"dtype\": \"category\",\n        \"num_unique_values\": 1,\n        \"samples\": [\n          \"N\"\n        ],\n        \"semantic_type\": \"\",\n        \"description\": \"\"\n      }\n    },\n    {\n      \"column\": \"trip_duration\",\n      \"properties\": {\n        \"dtype\": \"number\",\n        \"std\": 1825,\n        \"min\": 3,\n        \"max\": 17802,\n        \"num_unique_values\": 4776,\n        \"samples\": [\n          1996\n        ],\n        \"semantic_type\": \"\",\n        \"description\": \"\"\n      }\n    },\n    {\n      \"column\": \"dist_meters\",\n      \"properties\": {\n        \"dtype\": \"number\",\n        \"std\": 12380738,\n        \"min\": 11,\n        \"max\": 2147483647,\n        \"num_unique_values\": 12109,\n        \"samples\": [\n          12669\n        ],\n        \"semantic_type\": \"\",\n        \"description\": \"\"\n      }\n    },\n    {\n      \"column\": \"wait_sec\",\n      \"properties\": {\n        \"dtype\": \"number\",\n        \"std\": 204979546,\n        \"min\": 0,\n        \"max\": 22036314888,\n        \"num_unique_values\": 2869,\n        \"samples\": [\n          194\n        ],\n        \"semantic_type\": \"\",\n        \"description\": \"\"\n      }\n    },\n    {\n      \"column\": \"city_id\",\n      \"properties\": {\n        \"dtype\": \"category\",\n        \"num_unique_values\": 1,\n        \"samples\": [\n          \"quito\"\n        ],\n        \"semantic_type\": \"\",\n        \"description\": \"\"\n      }\n    }\n  ]\n}"
            }
          },
          "metadata": {},
          "execution_count": 101
        }
      ]
    },
    {
      "cell_type": "code",
      "source": [
        "import matplotlib.pyplot as plt\n",
        "import seaborn as sns\n",
        "\n",
        "plt.figure(figsize=(10, 4))\n",
        "\n",
        "sns.boxplot(x=combined_df['trip_duration'], color='skyblue')\n",
        "\n",
        "plt.xlabel('Trip Duration (seconds)')\n",
        "plt.title('Box Plot of Trip Durations')\n",
        "plt.grid(True)\n",
        "plt.tight_layout()\n",
        "plt.show()\n"
      ],
      "metadata": {
        "colab": {
          "base_uri": "https://localhost:8080/",
          "height": 347
        },
        "id": "v644ypRLzwd8",
        "outputId": "96acdc73-cb17-45a2-c9a9-031bf4a1a145"
      },
      "execution_count": null,
      "outputs": [
        {
          "output_type": "display_data",
          "data": {
            "text/plain": [
              "<Figure size 1000x400 with 1 Axes>"
            ],
            "image/png": "[encoded data removed]"
          },
          "metadata": {}
        }
      ]
    },
    {
      "cell_type": "code",
      "source": [
        "def get_duration_discrepancy_mask(df, max_duration_hours=3, tolerance=60):\n",
        "    \"\"\"\n",
        "    Returns a boolean mask where trip_duration > max_duration_hours * 3600\n",
        "    and differs from actual duration by more than `tolerance` seconds.\n",
        "\n",
        "    Parameters:\n",
        "    - df: pandas DataFrame with 'pickup_datetime' and 'dropoff_datetime' columns.\n",
        "    - max_duration_hours: threshold for excessive duration in hours.\n",
        "    - tolerance: allowable difference in seconds between trip_duration and computed duration.\n",
        "    \"\"\"\n",
        "    pickup_dt = pd.to_datetime(df['pickup_datetime'])\n",
        "    dropoff_dt = pd.to_datetime(df['dropoff_datetime'])\n",
        "\n",
        "    computed_duration = (dropoff_dt - pickup_dt).dt.total_seconds()\n",
        "    max_duration_seconds = max_duration_hours * 3600\n",
        "\n",
        "    mask = (\n",
        "        (df['trip_duration'] > max_duration_seconds) &\n",
        "        (abs(df['trip_duration'] - computed_duration) > tolerance)\n",
        "    )\n",
        "    return mask\n",
        "\n"
      ],
      "metadata": {
        "id": "68DWS1Bebjp4"
      },
      "execution_count": null,
      "outputs": []
    },
    {
      "cell_type": "code",
      "source": [
        "mask_duration_discrepancy = get_duration_discrepancy_mask(combined_df, max_duration_hours=3, tolerance=60)"
      ],
      "metadata": {
        "id": "lAQqmrZpbjmw"
      },
      "execution_count": null,
      "outputs": []
    },
    {
      "cell_type": "code",
      "source": [
        "combined_df = combined_df[~mask_duration_discrepancy]"
      ],
      "metadata": {
        "colab": {
          "base_uri": "https://localhost:8080/"
        },
        "id": "tZUoGr2abjjE",
        "outputId": "62bfe7ee-367c-4667-a308-50e2035b3d39"
      },
      "execution_count": null,
      "outputs": [
        {
          "output_type": "stream",
          "name": "stderr",
          "text": [
            "<ipython-input-163-ef272f91ab0b>:1: UserWarning: Boolean Series key will be reindexed to match DataFrame index.\n",
            "  combined_df = combined_df[~mask_duration_discrepancy]\n"
          ]
        }
      ]
    },
    {
      "cell_type": "code",
      "source": [
        "# Drop a useless column only useful to combine our dataset with other taxi datasets\n",
        "combined_df = combined_df.drop(columns=['store_and_fwd_flag'])"
      ],
      "metadata": {
        "colab": {
          "base_uri": "https://localhost:8080/",
          "height": 304
        },
        "id": "RDsE8slXbjex",
        "outputId": "515acaa3-5474-4912-8cdb-1c7f16de485e"
      },
      "execution_count": null,
      "outputs": [
        {
          "output_type": "error",
          "ename": "KeyError",
          "evalue": "\"['store_and_fwd_flag'] not found in axis\"",
          "traceback": [
            "\u001b[0;31m---------------------------------------------------------------------------\u001b[0m",
            "\u001b[0;31mKeyError\u001b[0m                                  Traceback (most recent call last)",
            "\u001b[0;32m<ipython-input-162-de0c8bb85046>\u001b[0m in \u001b[0;36m<cell line: 0>\u001b[0;34m()\u001b[0m\n\u001b[1;32m      1\u001b[0m \u001b[0;31m# Drop a useless column only useful to combine our dataset with other taxi datasets\u001b[0m\u001b[0;34m\u001b[0m\u001b[0;34m\u001b[0m\u001b[0m\n\u001b[0;32m----> 2\u001b[0;31m \u001b[0mcombined_df\u001b[0m \u001b[0;34m=\u001b[0m \u001b[0mcombined_df\u001b[0m\u001b[0;34m.\u001b[0m\u001b[0mdrop\u001b[0m\u001b[0;34m(\u001b[0m\u001b[0mcolumns\u001b[0m\u001b[0;34m=\u001b[0m\u001b[0;34m[\u001b[0m\u001b[0;34m'store_and_fwd_flag'\u001b[0m\u001b[0;34m]\u001b[0m\u001b[0;34m)\u001b[0m\u001b[0;34m\u001b[0m\u001b[0;34m\u001b[0m\u001b[0m\n\u001b[0m",
            "\u001b[0;32m/usr/local/lib/python3.11/dist-packages/pandas/core/frame.py\u001b[0m in \u001b[0;36mdrop\u001b[0;34m(self, labels, axis, index, columns, level, inplace, errors)\u001b[0m\n\u001b[1;32m   5579\u001b[0m                 \u001b[0mweight\u001b[0m  \u001b[0;36m1.0\u001b[0m     \u001b[0;36m0.8\u001b[0m\u001b[0;34m\u001b[0m\u001b[0;34m\u001b[0m\u001b[0m\n\u001b[1;32m   5580\u001b[0m         \"\"\"\n\u001b[0;32m-> 5581\u001b[0;31m         return super().drop(\n\u001b[0m\u001b[1;32m   5582\u001b[0m             \u001b[0mlabels\u001b[0m\u001b[0;34m=\u001b[0m\u001b[0mlabels\u001b[0m\u001b[0;34m,\u001b[0m\u001b[0;34m\u001b[0m\u001b[0;34m\u001b[0m\u001b[0m\n\u001b[1;32m   5583\u001b[0m             \u001b[0maxis\u001b[0m\u001b[0;34m=\u001b[0m\u001b[0maxis\u001b[0m\u001b[0;34m,\u001b[0m\u001b[0;34m\u001b[0m\u001b[0;34m\u001b[0m\u001b[0m\n",
            "\u001b[0;32m/usr/local/lib/python3.11/dist-packages/pandas/core/generic.py\u001b[0m in \u001b[0;36mdrop\u001b[0;34m(self, labels, axis, index, columns, level, inplace, errors)\u001b[0m\n\u001b[1;32m   4786\u001b[0m         \u001b[0;32mfor\u001b[0m \u001b[0maxis\u001b[0m\u001b[0;34m,\u001b[0m \u001b[0mlabels\u001b[0m \u001b[0;32min\u001b[0m \u001b[0maxes\u001b[0m\u001b[0;34m.\u001b[0m\u001b[0mitems\u001b[0m\u001b[0;34m(\u001b[0m\u001b[0;34m)\u001b[0m\u001b[0;34m:\u001b[0m\u001b[0;34m\u001b[0m\u001b[0;34m\u001b[0m\u001b[0m\n\u001b[1;32m   4787\u001b[0m             \u001b[0;32mif\u001b[0m \u001b[0mlabels\u001b[0m \u001b[0;32mis\u001b[0m \u001b[0;32mnot\u001b[0m \u001b[0;32mNone\u001b[0m\u001b[0;34m:\u001b[0m\u001b[0;34m\u001b[0m\u001b[0;34m\u001b[0m\u001b[0m\n\u001b[0;32m-> 4788\u001b[0;31m                 \u001b[0mobj\u001b[0m \u001b[0;34m=\u001b[0m \u001b[0mobj\u001b[0m\u001b[0;34m.\u001b[0m\u001b[0m_drop_axis\u001b[0m\u001b[0;34m(\u001b[0m\u001b[0mlabels\u001b[0m\u001b[0;34m,\u001b[0m \u001b[0maxis\u001b[0m\u001b[0;34m,\u001b[0m \u001b[0mlevel\u001b[0m\u001b[0;34m=\u001b[0m\u001b[0mlevel\u001b[0m\u001b[0;34m,\u001b[0m \u001b[0merrors\u001b[0m\u001b[0;34m=\u001b[0m\u001b[0merrors\u001b[0m\u001b[0;34m)\u001b[0m\u001b[0;34m\u001b[0m\u001b[0;34m\u001b[0m\u001b[0m\n\u001b[0m\u001b[1;32m   4789\u001b[0m \u001b[0;34m\u001b[0m\u001b[0m\n\u001b[1;32m   4790\u001b[0m         \u001b[0;32mif\u001b[0m \u001b[0minplace\u001b[0m\u001b[0;34m:\u001b[0m\u001b[0;34m\u001b[0m\u001b[0;34m\u001b[0m\u001b[0m\n",
            "\u001b[0;32m/usr/local/lib/python3.11/dist-packages/pandas/core/generic.py\u001b[0m in \u001b[0;36m_drop_axis\u001b[0;34m(self, labels, axis, level, errors, only_slice)\u001b[0m\n\u001b[1;32m   4828\u001b[0m                 \u001b[0mnew_axis\u001b[0m \u001b[0;34m=\u001b[0m \u001b[0maxis\u001b[0m\u001b[0;34m.\u001b[0m\u001b[0mdrop\u001b[0m\u001b[0;34m(\u001b[0m\u001b[0mlabels\u001b[0m\u001b[0;34m,\u001b[0m \u001b[0mlevel\u001b[0m\u001b[0;34m=\u001b[0m\u001b[0mlevel\u001b[0m\u001b[0;34m,\u001b[0m \u001b[0merrors\u001b[0m\u001b[0;34m=\u001b[0m\u001b[0merrors\u001b[0m\u001b[0;34m)\u001b[0m\u001b[0;34m\u001b[0m\u001b[0;34m\u001b[0m\u001b[0m\n\u001b[1;32m   4829\u001b[0m             \u001b[0;32melse\u001b[0m\u001b[0;34m:\u001b[0m\u001b[0;34m\u001b[0m\u001b[0;34m\u001b[0m\u001b[0m\n\u001b[0;32m-> 4830\u001b[0;31m                 \u001b[0mnew_axis\u001b[0m \u001b[0;34m=\u001b[0m \u001b[0maxis\u001b[0m\u001b[0;34m.\u001b[0m\u001b[0mdrop\u001b[0m\u001b[0;34m(\u001b[0m\u001b[0mlabels\u001b[0m\u001b[0;34m,\u001b[0m \u001b[0merrors\u001b[0m\u001b[0;34m=\u001b[0m\u001b[0merrors\u001b[0m\u001b[0;34m)\u001b[0m\u001b[0;34m\u001b[0m\u001b[0;34m\u001b[0m\u001b[0m\n\u001b[0m\u001b[1;32m   4831\u001b[0m             \u001b[0mindexer\u001b[0m \u001b[0;34m=\u001b[0m \u001b[0maxis\u001b[0m\u001b[0;34m.\u001b[0m\u001b[0mget_indexer\u001b[0m\u001b[0;34m(\u001b[0m\u001b[0mnew_axis\u001b[0m\u001b[0;34m)\u001b[0m\u001b[0;34m\u001b[0m\u001b[0;34m\u001b[0m\u001b[0m\n\u001b[1;32m   4832\u001b[0m \u001b[0;34m\u001b[0m\u001b[0m\n",
            "\u001b[0;32m/usr/local/lib/python3.11/dist-packages/pandas/core/indexes/base.py\u001b[0m in \u001b[0;36mdrop\u001b[0;34m(self, labels, errors)\u001b[0m\n\u001b[1;32m   7068\u001b[0m         \u001b[0;32mif\u001b[0m \u001b[0mmask\u001b[0m\u001b[0;34m.\u001b[0m\u001b[0many\u001b[0m\u001b[0;34m(\u001b[0m\u001b[0;34m)\u001b[0m\u001b[0;34m:\u001b[0m\u001b[0;34m\u001b[0m\u001b[0;34m\u001b[0m\u001b[0m\n\u001b[1;32m   7069\u001b[0m             \u001b[0;32mif\u001b[0m \u001b[0merrors\u001b[0m \u001b[0;34m!=\u001b[0m \u001b[0;34m\"ignore\"\u001b[0m\u001b[0;34m:\u001b[0m\u001b[0;34m\u001b[0m\u001b[0;34m\u001b[0m\u001b[0m\n\u001b[0;32m-> 7070\u001b[0;31m                 \u001b[0;32mraise\u001b[0m \u001b[0mKeyError\u001b[0m\u001b[0;34m(\u001b[0m\u001b[0;34mf\"{labels[mask].tolist()} not found in axis\"\u001b[0m\u001b[0;34m)\u001b[0m\u001b[0;34m\u001b[0m\u001b[0;34m\u001b[0m\u001b[0m\n\u001b[0m\u001b[1;32m   7071\u001b[0m             \u001b[0mindexer\u001b[0m \u001b[0;34m=\u001b[0m \u001b[0mindexer\u001b[0m\u001b[0;34m[\u001b[0m\u001b[0;34m~\u001b[0m\u001b[0mmask\u001b[0m\u001b[0;34m]\u001b[0m\u001b[0;34m\u001b[0m\u001b[0;34m\u001b[0m\u001b[0m\n\u001b[1;32m   7072\u001b[0m         \u001b[0;32mreturn\u001b[0m \u001b[0mself\u001b[0m\u001b[0;34m.\u001b[0m\u001b[0mdelete\u001b[0m\u001b[0;34m(\u001b[0m\u001b[0mindexer\u001b[0m\u001b[0;34m)\u001b[0m\u001b[0;34m\u001b[0m\u001b[0;34m\u001b[0m\u001b[0m\n",
            "\u001b[0;31mKeyError\u001b[0m: \"['store_and_fwd_flag'] not found in axis\""
          ]
        }
      ]
    },
    {
      "cell_type": "markdown",
      "source": [
        "# Observe if the mean is higher around some Christian holidays and around certain hours specifically the windows (7-9) and (17-19) all the trips in that window will be considered\n",
        "\n"
      ],
      "metadata": {
        "id": "MYfIZH6koj9O"
      }
    },
    {
      "cell_type": "code",
      "source": [
        "import pandas as pd\n",
        "import numpy as np\n",
        "from datetime import timedelta\n",
        "\n",
        "def is_majority_rush_hour(pickup, dropoff, min_fraction=2/3):\n",
        "    rush_hours = [(7, 9), (16, 19)]  # Inclusive start, exclusive end\n",
        "    total_seconds = (dropoff - pickup).total_seconds()\n",
        "    if total_seconds == 0:\n",
        "        return False\n",
        "\n",
        "    # Sample every minute of the trip\n",
        "    minutes = int(total_seconds // 60)\n",
        "    rush_minutes = 0\n",
        "\n",
        "    for i in range(minutes + 1):\n",
        "        current_time = pickup + timedelta(minutes=i)\n",
        "        hour = current_time.hour\n",
        "        if any(start <= hour < end for (start, end) in rush_hours):\n",
        "            rush_minutes += 1\n",
        "\n",
        "    return (rush_minutes / max(1, minutes)) >= min_fraction\n",
        "\n",
        "# Create the mask\n",
        "mask_majority_rush = combined_df.apply(\n",
        "    lambda row: is_majority_rush_hour(\n",
        "        pd.to_datetime(row['pickup_datetime']),\n",
        "        pd.to_datetime(row['dropoff_datetime']),\n",
        "        min_fraction=2/3  # You can adjust this value\n",
        "    ),\n",
        "    axis=1\n",
        ")\n",
        "\n"
      ],
      "metadata": {
        "id": "FtVJSY2Vxo_E"
      },
      "execution_count": null,
      "outputs": []
    },
    {
      "cell_type": "code",
      "source": [
        "combined_df['mostly_rush_hour'] = mask_majority_rush"
      ],
      "metadata": {
        "id": "IhLP_jIe0CwF"
      },
      "execution_count": null,
      "outputs": []
    },
    {
      "cell_type": "markdown",
      "source": [
        "# Mean Velocities\n",
        "\n"
      ],
      "metadata": {
        "id": "E2_BHQ3Al6FQ"
      }
    },
    {
      "cell_type": "code",
      "source": [
        "combined_df['means_velocity'] = combined_df['dist_meters']/combined_df['trip_duration']"
      ],
      "metadata": {
        "id": "g6Im7qTz1Jog"
      },
      "execution_count": null,
      "outputs": []
    },
    {
      "cell_type": "code",
      "source": [
        "import numpy as np\n",
        "\n",
        "# Calculate computed duration in seconds\n",
        "duration_computed = (combined_df['dropoff_datetime'] - combined_df['pickup_datetime']).dt.total_seconds()\n",
        "\n",
        "# Avoid division by zero\n",
        "valid_duration = (combined_df['trip_duration'] > 0) & (duration_computed > 0)\n",
        "\n",
        "# Adjustable tolerance parameters\n",
        "rtol = 1e-3  # relative tolerance (e.g. 0.1% difference allowed)\n",
        "atol = 1     # absolute tolerance in seconds or speed units\n",
        "\n",
        "# Compare average speeds within tolerance\n",
        "mask = (\n",
        "    valid_duration &\n",
        "    np.isclose(\n",
        "        combined_df['dist_meters'] / combined_df['trip_duration'],\n",
        "        combined_df['dist_meters'] / duration_computed,\n",
        "        rtol=rtol,\n",
        "        atol=atol\n",
        "    )\n",
        ")\n",
        "\n"
      ],
      "metadata": {
        "id": "VrpbF9lN1nHB"
      },
      "execution_count": null,
      "outputs": []
    },
    {
      "cell_type": "code",
      "source": [
        "mask.sum() # This last mask is true 42863 pretty close to 44210.\n",
        "           # This last filter deliver a sliglty better dataset\n",
        "           # The mean velocity has been checked in two independent ways"
      ],
      "metadata": {
        "colab": {
          "base_uri": "https://localhost:8080/"
        },
        "id": "vTrmE2wr2sJJ",
        "outputId": "b2f137f9-9f8d-4885-cbf4-c0053aa3d615"
      },
      "execution_count": null,
      "outputs": [
        {
          "output_type": "execute_result",
          "data": {
            "text/plain": [
              "np.int64(42863)"
            ]
          },
          "metadata": {},
          "execution_count": 160
        }
      ]
    },
    {
      "cell_type": "code",
      "source": [
        "combined_df = combined_df[mask]"
      ],
      "metadata": {
        "id": "AFSpaDuc3V9Y"
      },
      "execution_count": null,
      "outputs": []
    },
    {
      "cell_type": "markdown",
      "source": [
        "# Geodetic Distances\n",
        "\n",
        "Are there significant discrepancy between dist_meters and geodetic distances."
      ],
      "metadata": {
        "id": "PDr2x-FHl_OP"
      }
    },
    {
      "cell_type": "code",
      "source": [
        "from geopy.distance import geodesic  # or great_circle if preferred\n",
        "import numpy as np\n",
        "\n",
        "# Extract coordinates as tuples\n",
        "pickup_locations = combined_df[['pickup_latitude', 'pickup_longitude']].values\n",
        "dropoff_locations = combined_df[['dropoff_latitude', 'dropoff_longitude']].values\n",
        "\n",
        "# Compute geodetic distances in meters\n",
        "def compute_geodetic(pickup, dropoff):\n",
        "    try:\n",
        "        return geodesic(pickup, dropoff).meters\n",
        "    except:\n",
        "        return np.nan\n",
        "\n",
        "# Vectorized application with fallback to avoid errors\n",
        "geodetic_distances = [\n",
        "    compute_geodetic(p, d) for p, d in zip(pickup_locations, dropoff_locations)\n",
        "]\n",
        "\n",
        "combined_df['geodetic_distance'] = geodetic_distances"
      ],
      "metadata": {
        "colab": {
          "base_uri": "https://localhost:8080/"
        },
        "id": "_uWGYDtg6yfX",
        "outputId": "c50053ac-3ef7-4013-e695-d12d082f9f5b"
      },
      "execution_count": null,
      "outputs": [
        {
          "output_type": "stream",
          "name": "stderr",
          "text": [
            "<ipython-input-167-50c8e0f9bb0e>:20: SettingWithCopyWarning: \n",
            "A value is trying to be set on a copy of a slice from a DataFrame.\n",
            "Try using .loc[row_indexer,col_indexer] = value instead\n",
            "\n",
            "See the caveats in the documentation: https://pandas.pydata.org/pandas-docs/stable/user_guide/indexing.html#returning-a-view-versus-a-copy\n",
            "  combined_df['geodetic_distance'] = geodetic_distances\n"
          ]
        }
      ]
    },
    {
      "cell_type": "markdown",
      "source": [
        "# Save our progress:"
      ],
      "metadata": {
        "id": "deRPDm7BmL6N"
      }
    },
    {
      "cell_type": "code",
      "source": [
        "import os\n",
        "import pandas as pd\n",
        "\n",
        "# Define path inside Google Drive\n",
        "drive_path = '/content/drive/MyDrive/datasets'\n",
        "\n",
        "# Create the folder if it doesn't exist\n",
        "os.makedirs(drive_path, exist_ok=True)\n",
        "\n",
        "# Save your DataFrame as CSV\n",
        "combined_df.to_csv(os.path.join(drive_path, 'combined_dataset1.csv'), index=False)"
      ],
      "metadata": {
        "id": "FLoG0oU-8rA4"
      },
      "execution_count": null,
      "outputs": []
    }
  ]
}