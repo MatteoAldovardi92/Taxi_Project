{
  "nbformat": 4,
  "nbformat_minor": 0,
  "metadata": {
    "colab": {
      "provenance": [],
      "authorship_tag": "ABX9TyN0luGQoRF3nqzrYCTQakdD",
      "include_colab_link": true
    },
    "kernelspec": {
      "name": "python3",
      "display_name": "Python 3"
    },
    "language_info": {
      "name": "python"
    }
  },
  "cells": [
    {
      "cell_type": "markdown",
      "metadata": {
        "id": "view-in-github",
        "colab_type": "text"
      },
      "source": [
        "<a href=\"https://colab.research.google.com/github/MatteoAldovardi92/Taxi_Project/blob/main/Preprocessing_FeatureDesign.ipynb\" target=\"_parent\"><img src=\"https://colab.research.google.com/assets/colab-badge.svg\" alt=\"Open In Colab\"/></a>"
      ]
    },
    {
      "cell_type": "code",
      "source": [
        "# To save a copy to be retrived from other notebooks\n",
        "from google.colab import drive\n",
        "drive.mount('/content/drive')\n"
      ],
      "metadata": {
        "colab": {
          "base_uri": "https://localhost:8080/"
        },
        "id": "V-w8oL8nrFnH",
        "outputId": "b75ea1e8-de01-4794-e0b9-54c603481686"
      },
      "execution_count": null,
      "outputs": [
        {
          "output_type": "stream",
          "name": "stdout",
          "text": [
            "Mounted at /content/drive\n"
          ]
        }
      ]
    },
    {
      "cell_type": "code",
      "source": [
        "import pandas as pd\n",
        "combined_df = pd.read_csv('/content/drive/MyDrive/datasets/combined_dataset.csv')\n",
        "combined_df['city_id'].value_counts()\n"
      ],
      "metadata": {
        "colab": {
          "base_uri": "https://localhost:8080/",
          "height": 209
        },
        "id": "rdnQ_rPptnNb",
        "outputId": "6b8354ec-1531-4d45-db5a-3ad4f70c96c5"
      },
      "execution_count": null,
      "outputs": [
        {
          "output_type": "execute_result",
          "data": {
            "text/plain": [
              "city_id\n",
              "quito     32298\n",
              "mexico    12652\n",
              "bogota     3052\n",
              "Name: count, dtype: int64"
            ],
            "text/html": [
              "<div>\n",
              "<style scoped>\n",
              "    .dataframe tbody tr th:only-of-type {\n",
              "        vertical-align: middle;\n",
              "    }\n",
              "\n",
              "    .dataframe tbody tr th {\n",
              "        vertical-align: top;\n",
              "    }\n",
              "\n",
              "    .dataframe thead th {\n",
              "        text-align: right;\n",
              "    }\n",
              "</style>\n",
              "<table border=\"1\" class=\"dataframe\">\n",
              "  <thead>\n",
              "    <tr style=\"text-align: right;\">\n",
              "      <th></th>\n",
              "      <th>count</th>\n",
              "    </tr>\n",
              "    <tr>\n",
              "      <th>city_id</th>\n",
              "      <th></th>\n",
              "    </tr>\n",
              "  </thead>\n",
              "  <tbody>\n",
              "    <tr>\n",
              "      <th>quito</th>\n",
              "      <td>32298</td>\n",
              "    </tr>\n",
              "    <tr>\n",
              "      <th>mexico</th>\n",
              "      <td>12652</td>\n",
              "    </tr>\n",
              "    <tr>\n",
              "      <th>bogota</th>\n",
              "      <td>3052</td>\n",
              "    </tr>\n",
              "  </tbody>\n",
              "</table>\n",
              "</div><br><label><b>dtype:</b> int64</label>"
            ]
          },
          "metadata": {},
          "execution_count": 2
        }
      ]
    },
    {
      "cell_type": "code",
      "source": [
        "import kagglehub\n",
        "import os\n",
        "import pandas as pd\n",
        "import kagglehub\n",
        "\n",
        "\n",
        "\n",
        "# Download latest version\n",
        "path = kagglehub.dataset_download(\"mnavas/taxi-routes-for-mexico-city-and-quito\")\n",
        "\n",
        "print(\"Path to dataset files:\", path)\n",
        "\n",
        "\n",
        "# Show files inside the dataset directory\n",
        "print(\"Dataset contents:\")\n",
        "for root, dirs, files in os.walk(path):\n",
        "    for name in files:\n",
        "        print(os.path.join(root, name))\n",
        "\n",
        "# Download the dataset\n",
        "path = kagglehub.dataset_download(\"mnavas/taxi-routes-for-mexico-city-and-quito\")\n",
        "\n",
        "# Load each CSV as a separate DataFrame\n",
        "bog_df = pd.read_csv(os.path.join(path, \"bog_clean.csv\"))\n",
        "uio_df = pd.read_csv(os.path.join(path, \"uio_clean.csv\"))\n",
        "mex_df = pd.read_csv(os.path.join(path, \"mex_clean.csv\"))\n",
        "all_df = pd.read_csv(os.path.join(path, \"all-data_clean.csv\"))\n",
        "\n",
        "# Preview one\n",
        "print(all_df.head())\n",
        "\n",
        "\n"
      ],
      "metadata": {
        "colab": {
          "base_uri": "https://localhost:8080/"
        },
        "id": "DSWwjGcEkoUK",
        "outputId": "d84208e6-bdf2-4fca-c575-8cac1c9726c2"
      },
      "execution_count": null,
      "outputs": [
        {
          "output_type": "stream",
          "name": "stdout",
          "text": [
            "Downloading from https://www.kaggle.com/api/v1/datasets/download/mnavas/taxi-routes-for-mexico-city-and-quito?dataset_version_number=3...\n"
          ]
        },
        {
          "output_type": "stream",
          "name": "stderr",
          "text": [
            "100%|██████████| 7.00M/7.00M [00:00<00:00, 148MB/s]"
          ]
        },
        {
          "output_type": "stream",
          "name": "stdout",
          "text": [
            "Extracting files...\n"
          ]
        },
        {
          "output_type": "stream",
          "name": "stderr",
          "text": [
            "\n"
          ]
        },
        {
          "output_type": "stream",
          "name": "stdout",
          "text": [
            "Path to dataset files: /root/.cache/kagglehub/datasets/mnavas/taxi-routes-for-mexico-city-and-quito/versions/3\n",
            "Dataset contents:\n",
            "/root/.cache/kagglehub/datasets/mnavas/taxi-routes-for-mexico-city-and-quito/versions/3/mex_clean.csv\n",
            "/root/.cache/kagglehub/datasets/mnavas/taxi-routes-for-mexico-city-and-quito/versions/3/bog_clean.csv\n",
            "/root/.cache/kagglehub/datasets/mnavas/taxi-routes-for-mexico-city-and-quito/versions/3/all-data_clean.csv\n",
            "/root/.cache/kagglehub/datasets/mnavas/taxi-routes-for-mexico-city-and-quito/versions/3/uio_clean.csv\n",
            "   id              vendor_id      pickup_datetime     dropoff_datetime  \\\n",
            "0   1                  Quito  2016-09-17 09:32:06  2016-09-17 10:05:51   \n",
            "1   2  Guadalajara Easy Taxi  2016-09-17 09:59:54  2016-09-17 10:06:23   \n",
            "2   3              Monterrey  2016-09-17 10:06:52  2016-09-17 10:09:40   \n",
            "3   4              Monterrey  2016-09-17 09:45:56  2016-09-17 10:13:34   \n",
            "4   5              Monterrey  2016-09-17 10:12:00  2016-09-17 10:16:31   \n",
            "\n",
            "   pickup_longitude  pickup_latitude  dropoff_longitude  dropoff_latitude  \\\n",
            "0          0.632055         0.528947         -78.549447         -0.361363   \n",
            "1          0.327804         0.391950        -103.366600         20.686971   \n",
            "2          0.140910         0.563280        -100.165737         25.619387   \n",
            "3          0.207565         0.590416        -100.491721         25.676294   \n",
            "4          0.128881         0.580419        -100.104166         25.643862   \n",
            "\n",
            "  store_and_fwd_flag  trip_duration  dist_meters  wait_sec  \n",
            "0                  N           2025        24228       346  \n",
            "1                  N            389         2962      3675  \n",
            "2                  N            168          951         0  \n",
            "3                  N           1659        11082       358  \n",
            "4                  N            272         2021      3614  \n"
          ]
        }
      ]
    },
    {
      "cell_type": "markdown",
      "source": [
        "# Description of trip duration and desining of the rush hour variable."
      ],
      "metadata": {
        "id": "bZaootDJl3DV"
      }
    },
    {
      "cell_type": "markdown",
      "source": [
        "### 🚕 Trip Duration Filtering Strategy\n",
        "\n",
        "The first rational filtering approach is based on **physical feasibility**:  \n",
        "To define a hard upper bound for trip duration, I consider the **worst-case scenario** — the **longest possible trip** at the **lowest reasonable average speed**.\n",
        "\n",
        "However, while this would ideally rely on accurate trip **distances**, the dataset contains some **inadmissible distance values**, so I must filter the `trip_duration` feature **separately**.\n",
        "\n",
        "To estimate an upper bound:\n",
        "\n",
        "- The **maximum possible trip distance is 120 km**, based on how I previously clipped the coordinate points.\n",
        "- I assume a **minimum average speed** of **20 km/h**, below which a motorized taxi would generally not be an optable choice.\n",
        "\n",
        "Using these values, I obtain a conservative upper limit on duration:\n",
        "\n",
        "$$\n",
        "\\frac{120\\ \\text{km}}{20\\ \\text{km/h}} = 6\\ \\text{hours}\n",
        "$$\n",
        "\n",
        "To apply an even stricter filter, I round down slightly:\n",
        "\n",
        "$$\n",
        "\\frac{100\\ \\text{km}}{20\\ \\text{km/h}} = 5\\ \\text{hours}\n",
        "$$\n",
        "\n",
        "As a result, I filter out any trips longer than **5 hours** (18,000 seconds), as they are likely to be **data errors** or **non-taxi rides**:\n",
        "\n",
        "```python\n",
        "combined_df = combined_df[(combined_df['trip_duration'] <= 5 * 3600) & (combined_df['trip_duration'] > 0) ]\n",
        "\n"
      ],
      "metadata": {
        "id": "43Qww3Mj4cDl"
      }
    },
    {
      "cell_type": "code",
      "source": [
        "combined_df = combined_df[(combined_df['trip_duration'] <= 5 * 3600) & (combined_df['trip_duration'] > 0) ]"
      ],
      "metadata": {
        "id": "t8f9MueP6SX1"
      },
      "execution_count": null,
      "outputs": []
    },
    {
      "cell_type": "code",
      "source": [
        "import matplotlib.pyplot as plt\n",
        "import seaborn as sns\n",
        "\n",
        "plt.figure(figsize=(12, 6))\n",
        "\n",
        "# Plot histogram with log scale for y-axis if there are many short trips\n",
        "sns.histplot(combined_df['trip_duration'], bins=100, kde=False, color='skyblue')\n",
        "\n",
        "plt.title('Frequency Distribution of Trip Durations')\n",
        "plt.xlabel('Trip Duration (minutes)')\n",
        "plt.ylabel('Frequency')\n",
        "plt.grid(True)\n",
        "plt.tight_layout()\n",
        "plt.show()\n"
      ],
      "metadata": {
        "colab": {
          "base_uri": "https://localhost:8080/",
          "height": 432
        },
        "id": "q_UxPpj3v7g2",
        "outputId": "4387ce60-6ea1-4e13-e062-3c8f4d84e2a3"
      },
      "execution_count": null,
      "outputs": [
        {
          "output_type": "display_data",
          "data": {
            "text/plain": [
              "<Figure size 1200x600 with 1 Axes>"
            ],
            "image/png": "[encoded data removed]"
          },
          "metadata": {}
        }
      ]
    },
    {
      "cell_type": "code",
      "source": [
        "combined_df['trip_duration'].describe()\n",
        "17802/3600"
      ],
      "metadata": {
        "colab": {
          "base_uri": "https://localhost:8080/"
        },
        "id": "HiR9zojXwMBr",
        "outputId": "f5fcc7d3-dc71-4b31-c056-9b5a6ee9c4e2"
      },
      "execution_count": null,
      "outputs": [
        {
          "output_type": "execute_result",
          "data": {
            "text/plain": [
              "4.945"
            ]
          },
          "metadata": {},
          "execution_count": 6
        }
      ]
    },
    {
      "cell_type": "code",
      "source": [
        "combined_df['trip_duration'].describe()"
      ],
      "metadata": {
        "colab": {
          "base_uri": "https://localhost:8080/",
          "height": 335
        },
        "id": "ajScR5GEw_HH",
        "outputId": "2aca3a2c-5240-4e84-af0b-4a3b23d4b931"
      },
      "execution_count": null,
      "outputs": [
        {
          "output_type": "execute_result",
          "data": {
            "text/plain": [
              "count    44416.000000\n",
              "mean      1462.196438\n",
              "std       2036.942891\n",
              "min          2.000000\n",
              "25%        468.000000\n",
              "50%        863.000000\n",
              "75%       1578.000000\n",
              "max      17955.000000\n",
              "Name: trip_duration, dtype: float64"
            ],
            "text/html": [
              "<div>\n",
              "<style scoped>\n",
              "    .dataframe tbody tr th:only-of-type {\n",
              "        vertical-align: middle;\n",
              "    }\n",
              "\n",
              "    .dataframe tbody tr th {\n",
              "        vertical-align: top;\n",
              "    }\n",
              "\n",
              "    .dataframe thead th {\n",
              "        text-align: right;\n",
              "    }\n",
              "</style>\n",
              "<table border=\"1\" class=\"dataframe\">\n",
              "  <thead>\n",
              "    <tr style=\"text-align: right;\">\n",
              "      <th></th>\n",
              "      <th>trip_duration</th>\n",
              "    </tr>\n",
              "  </thead>\n",
              "  <tbody>\n",
              "    <tr>\n",
              "      <th>count</th>\n",
              "      <td>44416.000000</td>\n",
              "    </tr>\n",
              "    <tr>\n",
              "      <th>mean</th>\n",
              "      <td>1462.196438</td>\n",
              "    </tr>\n",
              "    <tr>\n",
              "      <th>std</th>\n",
              "      <td>2036.942891</td>\n",
              "    </tr>\n",
              "    <tr>\n",
              "      <th>min</th>\n",
              "      <td>2.000000</td>\n",
              "    </tr>\n",
              "    <tr>\n",
              "      <th>25%</th>\n",
              "      <td>468.000000</td>\n",
              "    </tr>\n",
              "    <tr>\n",
              "      <th>50%</th>\n",
              "      <td>863.000000</td>\n",
              "    </tr>\n",
              "    <tr>\n",
              "      <th>75%</th>\n",
              "      <td>1578.000000</td>\n",
              "    </tr>\n",
              "    <tr>\n",
              "      <th>max</th>\n",
              "      <td>17955.000000</td>\n",
              "    </tr>\n",
              "  </tbody>\n",
              "</table>\n",
              "</div><br><label><b>dtype:</b> float64</label>"
            ]
          },
          "metadata": {},
          "execution_count": 7
        }
      ]
    },
    {
      "cell_type": "code",
      "source": [
        "combined_df"
      ],
      "metadata": {
        "colab": {
          "base_uri": "https://localhost:8080/",
          "height": 617
        },
        "id": "K8qwY8Db3M44",
        "outputId": "3f300bdd-ee49-4b55-c0a9-b96accdb3dc2"
      },
      "execution_count": null,
      "outputs": [
        {
          "output_type": "execute_result",
          "data": {
            "text/plain": [
              "          id             vendor_id      pickup_datetime     dropoff_datetime  \\\n",
              "1          1  México DF Taxi Libre  2016-09-18 06:16:33  2016-09-18 10:11:43   \n",
              "2          2  México DF Taxi Libre  2016-09-18 10:11:50  2016-09-18 10:23:11   \n",
              "3          3  México DF Taxi Libre  2016-09-18 10:23:38  2016-09-18 10:30:53   \n",
              "4          4  México DF Taxi Libre  2016-09-18 10:44:18  2016-09-18 10:51:40   \n",
              "5          5  México DF Taxi Libre  2016-09-18 10:58:07  2016-09-18 10:59:46   \n",
              "...      ...                   ...                  ...                  ...   \n",
              "47995  47995                 Quito  2016-10-27 08:13:06  2016-10-27 08:26:49   \n",
              "47996  47996                 Quito  2016-10-27 07:43:47  2016-10-27 08:52:40   \n",
              "47997  47997                 Quito  2016-10-27 08:36:09  2016-10-27 09:19:59   \n",
              "48000  48000                 Quito  2016-10-25 04:58:55  2016-10-25 05:00:25   \n",
              "48001  48001                 Quito  2016-10-28 06:47:59  2016-10-28 06:58:31   \n",
              "\n",
              "       pickup_longitude  pickup_latitude  dropoff_longitude  dropoff_latitude  \\\n",
              "1            -99.297148        19.322128         -99.289949         19.326538   \n",
              "2            -99.289603        19.326263         -99.271874         19.328530   \n",
              "3            -99.271161        19.328875         -99.279900         19.326256   \n",
              "4            -99.282761        19.326944         -99.291705         19.322754   \n",
              "5            -99.289712        19.322929         -99.289280         19.325978   \n",
              "...                 ...              ...                ...               ...   \n",
              "47995        -78.559305        -0.279975         -78.554070         -0.314890   \n",
              "47996        -78.501332        -0.205046         -78.429927         -0.329160   \n",
              "47997        -78.485382        -0.174790         -78.487138         -0.175598   \n",
              "48000        -78.550264        -0.256730         -78.550306         -0.256756   \n",
              "48001        -78.431986        -0.341538         -78.446296         -0.327428   \n",
              "\n",
              "      store_and_fwd_flag  trip_duration  dist_meters  wait_sec city_id  \n",
              "1                      N          14110         1700       461  mexico  \n",
              "2                      N            681         2848       129  mexico  \n",
              "3                      N            436         1409       106  mexico  \n",
              "4                      N            442         1567        85  mexico  \n",
              "5                      N            100          797        19  mexico  \n",
              "...                  ...            ...          ...       ...     ...  \n",
              "47995                  N            823         5012       198   quito  \n",
              "47996                  N           4133        17581      1165   quito  \n",
              "47997                  N           2631         4872      2006   quito  \n",
              "48000                  N             91           43        70   quito  \n",
              "48001                  N            633         3296       150   quito  \n",
              "\n",
              "[44416 rows x 13 columns]"
            ],
            "text/html": [
              "\n",
              "  <div id=\"df-a70619af-6214-4afa-819a-0e4cf06c819c\" class=\"colab-df-container\">\n",
              "    <div>\n",
              "<style scoped>\n",
              "    .dataframe tbody tr th:only-of-type {\n",
              "        vertical-align: middle;\n",
              "    }\n",
              "\n",
              "    .dataframe tbody tr th {\n",
              "        vertical-align: top;\n",
              "    }\n",
              "\n",
              "    .dataframe thead th {\n",
              "        text-align: right;\n",
              "    }\n",
              "</style>\n",
              "<table border=\"1\" class=\"dataframe\">\n",
              "  <thead>\n",
              "    <tr style=\"text-align: right;\">\n",
              "      <th></th>\n",
              "      <th>id</th>\n",
              "      <th>vendor_id</th>\n",
              "      <th>pickup_datetime</th>\n",
              "      <th>dropoff_datetime</th>\n",
              "      <th>pickup_longitude</th>\n",
              "      <th>pickup_latitude</th>\n",
              "      <th>dropoff_longitude</th>\n",
              "      <th>dropoff_latitude</th>\n",
              "      <th>store_and_fwd_flag</th>\n",
              "      <th>trip_duration</th>\n",
              "      <th>dist_meters</th>\n",
              "      <th>wait_sec</th>\n",
              "      <th>city_id</th>\n",
              "    </tr>\n",
              "  </thead>\n",
              "  <tbody>\n",
              "    <tr>\n",
              "      <th>1</th>\n",
              "      <td>1</td>\n",
              "      <td>México DF Taxi Libre</td>\n",
              "      <td>2016-09-18 06:16:33</td>\n",
              "      <td>2016-09-18 10:11:43</td>\n",
              "      <td>-99.297148</td>\n",
              "      <td>19.322128</td>\n",
              "      <td>-99.289949</td>\n",
              "      <td>19.326538</td>\n",
              "      <td>N</td>\n",
              "      <td>14110</td>\n",
              "      <td>1700</td>\n",
              "      <td>461</td>\n",
              "      <td>mexico</td>\n",
              "    </tr>\n",
              "    <tr>\n",
              "      <th>2</th>\n",
              "      <td>2</td>\n",
              "      <td>México DF Taxi Libre</td>\n",
              "      <td>2016-09-18 10:11:50</td>\n",
              "      <td>2016-09-18 10:23:11</td>\n",
              "      <td>-99.289603</td>\n",
              "      <td>19.326263</td>\n",
              "      <td>-99.271874</td>\n",
              "      <td>19.328530</td>\n",
              "      <td>N</td>\n",
              "      <td>681</td>\n",
              "      <td>2848</td>\n",
              "      <td>129</td>\n",
              "      <td>mexico</td>\n",
              "    </tr>\n",
              "    <tr>\n",
              "      <th>3</th>\n",
              "      <td>3</td>\n",
              "      <td>México DF Taxi Libre</td>\n",
              "      <td>2016-09-18 10:23:38</td>\n",
              "      <td>2016-09-18 10:30:53</td>\n",
              "      <td>-99.271161</td>\n",
              "      <td>19.328875</td>\n",
              "      <td>-99.279900</td>\n",
              "      <td>19.326256</td>\n",
              "      <td>N</td>\n",
              "      <td>436</td>\n",
              "      <td>1409</td>\n",
              "      <td>106</td>\n",
              "      <td>mexico</td>\n",
              "    </tr>\n",
              "    <tr>\n",
              "      <th>4</th>\n",
              "      <td>4</td>\n",
              "      <td>México DF Taxi Libre</td>\n",
              "      <td>2016-09-18 10:44:18</td>\n",
              "      <td>2016-09-18 10:51:40</td>\n",
              "      <td>-99.282761</td>\n",
              "      <td>19.326944</td>\n",
              "      <td>-99.291705</td>\n",
              "      <td>19.322754</td>\n",
              "      <td>N</td>\n",
              "      <td>442</td>\n",
              "      <td>1567</td>\n",
              "      <td>85</td>\n",
              "      <td>mexico</td>\n",
              "    </tr>\n",
              "    <tr>\n",
              "      <th>5</th>\n",
              "      <td>5</td>\n",
              "      <td>México DF Taxi Libre</td>\n",
              "      <td>2016-09-18 10:58:07</td>\n",
              "      <td>2016-09-18 10:59:46</td>\n",
              "      <td>-99.289712</td>\n",
              "      <td>19.322929</td>\n",
              "      <td>-99.289280</td>\n",
              "      <td>19.325978</td>\n",
              "      <td>N</td>\n",
              "      <td>100</td>\n",
              "      <td>797</td>\n",
              "      <td>19</td>\n",
              "      <td>mexico</td>\n",
              "    </tr>\n",
              "    <tr>\n",
              "      <th>...</th>\n",
              "      <td>...</td>\n",
              "      <td>...</td>\n",
              "      <td>...</td>\n",
              "      <td>...</td>\n",
              "      <td>...</td>\n",
              "      <td>...</td>\n",
              "      <td>...</td>\n",
              "      <td>...</td>\n",
              "      <td>...</td>\n",
              "      <td>...</td>\n",
              "      <td>...</td>\n",
              "      <td>...</td>\n",
              "      <td>...</td>\n",
              "    </tr>\n",
              "    <tr>\n",
              "      <th>47995</th>\n",
              "      <td>47995</td>\n",
              "      <td>Quito</td>\n",
              "      <td>2016-10-27 08:13:06</td>\n",
              "      <td>2016-10-27 08:26:49</td>\n",
              "      <td>-78.559305</td>\n",
              "      <td>-0.279975</td>\n",
              "      <td>-78.554070</td>\n",
              "      <td>-0.314890</td>\n",
              "      <td>N</td>\n",
              "      <td>823</td>\n",
              "      <td>5012</td>\n",
              "      <td>198</td>\n",
              "      <td>quito</td>\n",
              "    </tr>\n",
              "    <tr>\n",
              "      <th>47996</th>\n",
              "      <td>47996</td>\n",
              "      <td>Quito</td>\n",
              "      <td>2016-10-27 07:43:47</td>\n",
              "      <td>2016-10-27 08:52:40</td>\n",
              "      <td>-78.501332</td>\n",
              "      <td>-0.205046</td>\n",
              "      <td>-78.429927</td>\n",
              "      <td>-0.329160</td>\n",
              "      <td>N</td>\n",
              "      <td>4133</td>\n",
              "      <td>17581</td>\n",
              "      <td>1165</td>\n",
              "      <td>quito</td>\n",
              "    </tr>\n",
              "    <tr>\n",
              "      <th>47997</th>\n",
              "      <td>47997</td>\n",
              "      <td>Quito</td>\n",
              "      <td>2016-10-27 08:36:09</td>\n",
              "      <td>2016-10-27 09:19:59</td>\n",
              "      <td>-78.485382</td>\n",
              "      <td>-0.174790</td>\n",
              "      <td>-78.487138</td>\n",
              "      <td>-0.175598</td>\n",
              "      <td>N</td>\n",
              "      <td>2631</td>\n",
              "      <td>4872</td>\n",
              "      <td>2006</td>\n",
              "      <td>quito</td>\n",
              "    </tr>\n",
              "    <tr>\n",
              "      <th>48000</th>\n",
              "      <td>48000</td>\n",
              "      <td>Quito</td>\n",
              "      <td>2016-10-25 04:58:55</td>\n",
              "      <td>2016-10-25 05:00:25</td>\n",
              "      <td>-78.550264</td>\n",
              "      <td>-0.256730</td>\n",
              "      <td>-78.550306</td>\n",
              "      <td>-0.256756</td>\n",
              "      <td>N</td>\n",
              "      <td>91</td>\n",
              "      <td>43</td>\n",
              "      <td>70</td>\n",
              "      <td>quito</td>\n",
              "    </tr>\n",
              "    <tr>\n",
              "      <th>48001</th>\n",
              "      <td>48001</td>\n",
              "      <td>Quito</td>\n",
              "      <td>2016-10-28 06:47:59</td>\n",
              "      <td>2016-10-28 06:58:31</td>\n",
              "      <td>-78.431986</td>\n",
              "      <td>-0.341538</td>\n",
              "      <td>-78.446296</td>\n",
              "      <td>-0.327428</td>\n",
              "      <td>N</td>\n",
              "      <td>633</td>\n",
              "      <td>3296</td>\n",
              "      <td>150</td>\n",
              "      <td>quito</td>\n",
              "    </tr>\n",
              "  </tbody>\n",
              "</table>\n",
              "<p>44416 rows × 13 columns</p>\n",
              "</div>\n",
              "    <div class=\"colab-df-buttons\">\n",
              "\n",
              "  <div class=\"colab-df-container\">\n",
              "    <button class=\"colab-df-convert\" onclick=\"convertToInteractive('df-a70619af-6214-4afa-819a-0e4cf06c819c')\"\n",
              "            title=\"Convert this dataframe to an interactive table.\"\n",
              "            style=\"display:none;\">\n",
              "\n",
              "  <svg xmlns=\"http://www.w3.org/2000/svg\" height=\"24px\" viewBox=\"0 -960 960 960\">\n",
              "    <path d=\"M120-120v-720h720v720H120Zm60-500h600v-160H180v160Zm220 220h160v-160H400v160Zm0 220h160v-160H400v160ZM180-400h160v-160H180v160Zm440 0h160v-160H620v160ZM180-180h160v-160H180v160Zm440 0h160v-160H620v160Z\"/>\n",
              "  </svg>\n",
              "    </button>\n",
              "\n",
              "  <style>\n",
              "    .colab-df-container {\n",
              "      display:flex;\n",
              "      gap: 12px;\n",
              "    }\n",
              "\n",
              "    .colab-df-convert {\n",
              "      background-color: #E8F0FE;\n",
              "      border: none;\n",
              "      border-radius: 50%;\n",
              "      cursor: pointer;\n",
              "      display: none;\n",
              "      fill: #1967D2;\n",
              "      height: 32px;\n",
              "      padding: 0 0 0 0;\n",
              "      width: 32px;\n",
              "    }\n",
              "\n",
              "    .colab-df-convert:hover {\n",
              "      background-color: #E2EBFA;\n",
              "      box-shadow: 0px 1px 2px rgba(60, 64, 67, 0.3), 0px 1px 3px 1px rgba(60, 64, 67, 0.15);\n",
              "      fill: #174EA6;\n",
              "    }\n",
              "\n",
              "    .colab-df-buttons div {\n",
              "      margin-bottom: 4px;\n",
              "    }\n",
              "\n",
              "    [theme=dark] .colab-df-convert {\n",
              "      background-color: #3B4455;\n",
              "      fill: #D2E3FC;\n",
              "    }\n",
              "\n",
              "    [theme=dark] .colab-df-convert:hover {\n",
              "      background-color: #434B5C;\n",
              "      box-shadow: 0px 1px 3px 1px rgba(0, 0, 0, 0.15);\n",
              "      filter: drop-shadow(0px 1px 2px rgba(0, 0, 0, 0.3));\n",
              "      fill: #FFFFFF;\n",
              "    }\n",
              "  </style>\n",
              "\n",
              "    <script>\n",
              "      const buttonEl =\n",
              "        document.querySelector('#df-a70619af-6214-4afa-819a-0e4cf06c819c button.colab-df-convert');\n",
              "      buttonEl.style.display =\n",
              "        google.colab.kernel.accessAllowed ? 'block' : 'none';\n",
              "\n",
              "      async function convertToInteractive(key) {\n",
              "        const element = document.querySelector('#df-a70619af-6214-4afa-819a-0e4cf06c819c');\n",
              "        const dataTable =\n",
              "          await google.colab.kernel.invokeFunction('convertToInteractive',\n",
              "                                                    [key], {});\n",
              "        if (!dataTable) return;\n",
              "\n",
              "        const docLinkHtml = 'Like what you see? Visit the ' +\n",
              "          '<a target=\"_blank\" href=https://colab.research.google.com/notebooks/data_table.ipynb>data table notebook</a>'\n",
              "          + ' to learn more about interactive tables.';\n",
              "        element.innerHTML = '';\n",
              "        dataTable['output_type'] = 'display_data';\n",
              "        await google.colab.output.renderOutput(dataTable, element);\n",
              "        const docLink = document.createElement('div');\n",
              "        docLink.innerHTML = docLinkHtml;\n",
              "        element.appendChild(docLink);\n",
              "      }\n",
              "    </script>\n",
              "  </div>\n",
              "\n",
              "\n",
              "    <div id=\"df-7ad3987e-532e-451d-9fac-3f038da6a168\">\n",
              "      <button class=\"colab-df-quickchart\" onclick=\"quickchart('df-7ad3987e-532e-451d-9fac-3f038da6a168')\"\n",
              "                title=\"Suggest charts\"\n",
              "                style=\"display:none;\">\n",
              "\n",
              "<svg xmlns=\"http://www.w3.org/2000/svg\" height=\"24px\"viewBox=\"0 0 24 24\"\n",
              "     width=\"24px\">\n",
              "    <g>\n",
              "        <path d=\"M19 3H5c-1.1 0-2 .9-2 2v14c0 1.1.9 2 2 2h14c1.1 0 2-.9 2-2V5c0-1.1-.9-2-2-2zM9 17H7v-7h2v7zm4 0h-2V7h2v10zm4 0h-2v-4h2v4z\"/>\n",
              "    </g>\n",
              "</svg>\n",
              "      </button>\n",
              "\n",
              "<style>\n",
              "  .colab-df-quickchart {\n",
              "      --bg-color: #E8F0FE;\n",
              "      --fill-color: #1967D2;\n",
              "      --hover-bg-color: #E2EBFA;\n",
              "      --hover-fill-color: #174EA6;\n",
              "      --disabled-fill-color: #AAA;\n",
              "      --disabled-bg-color: #DDD;\n",
              "  }\n",
              "\n",
              "  [theme=dark] .colab-df-quickchart {\n",
              "      --bg-color: #3B4455;\n",
              "      --fill-color: #D2E3FC;\n",
              "      --hover-bg-color: #434B5C;\n",
              "      --hover-fill-color: #FFFFFF;\n",
              "      --disabled-bg-color: #3B4455;\n",
              "      --disabled-fill-color: #666;\n",
              "  }\n",
              "\n",
              "  .colab-df-quickchart {\n",
              "    background-color: var(--bg-color);\n",
              "    border: none;\n",
              "    border-radius: 50%;\n",
              "    cursor: pointer;\n",
              "    display: none;\n",
              "    fill: var(--fill-color);\n",
              "    height: 32px;\n",
              "    padding: 0;\n",
              "    width: 32px;\n",
              "  }\n",
              "\n",
              "  .colab-df-quickchart:hover {\n",
              "    background-color: var(--hover-bg-color);\n",
              "    box-shadow: 0 1px 2px rgba(60, 64, 67, 0.3), 0 1px 3px 1px rgba(60, 64, 67, 0.15);\n",
              "    fill: var(--button-hover-fill-color);\n",
              "  }\n",
              "\n",
              "  .colab-df-quickchart-complete:disabled,\n",
              "  .colab-df-quickchart-complete:disabled:hover {\n",
              "    background-color: var(--disabled-bg-color);\n",
              "    fill: var(--disabled-fill-color);\n",
              "    box-shadow: none;\n",
              "  }\n",
              "\n",
              "  .colab-df-spinner {\n",
              "    border: 2px solid var(--fill-color);\n",
              "    border-color: transparent;\n",
              "    border-bottom-color: var(--fill-color);\n",
              "    animation:\n",
              "      spin 1s steps(1) infinite;\n",
              "  }\n",
              "\n",
              "  @keyframes spin {\n",
              "    0% {\n",
              "      border-color: transparent;\n",
              "      border-bottom-color: var(--fill-color);\n",
              "      border-left-color: var(--fill-color);\n",
              "    }\n",
              "    20% {\n",
              "      border-color: transparent;\n",
              "      border-left-color: var(--fill-color);\n",
              "      border-top-color: var(--fill-color);\n",
              "    }\n",
              "    30% {\n",
              "      border-color: transparent;\n",
              "      border-left-color: var(--fill-color);\n",
              "      border-top-color: var(--fill-color);\n",
              "      border-right-color: var(--fill-color);\n",
              "    }\n",
              "    40% {\n",
              "      border-color: transparent;\n",
              "      border-right-color: var(--fill-color);\n",
              "      border-top-color: var(--fill-color);\n",
              "    }\n",
              "    60% {\n",
              "      border-color: transparent;\n",
              "      border-right-color: var(--fill-color);\n",
              "    }\n",
              "    80% {\n",
              "      border-color: transparent;\n",
              "      border-right-color: var(--fill-color);\n",
              "      border-bottom-color: var(--fill-color);\n",
              "    }\n",
              "    90% {\n",
              "      border-color: transparent;\n",
              "      border-bottom-color: var(--fill-color);\n",
              "    }\n",
              "  }\n",
              "</style>\n",
              "\n",
              "      <script>\n",
              "        async function quickchart(key) {\n",
              "          const quickchartButtonEl =\n",
              "            document.querySelector('#' + key + ' button');\n",
              "          quickchartButtonEl.disabled = true;  // To prevent multiple clicks.\n",
              "          quickchartButtonEl.classList.add('colab-df-spinner');\n",
              "          try {\n",
              "            const charts = await google.colab.kernel.invokeFunction(\n",
              "                'suggestCharts', [key], {});\n",
              "          } catch (error) {\n",
              "            console.error('Error during call to suggestCharts:', error);\n",
              "          }\n",
              "          quickchartButtonEl.classList.remove('colab-df-spinner');\n",
              "          quickchartButtonEl.classList.add('colab-df-quickchart-complete');\n",
              "        }\n",
              "        (() => {\n",
              "          let quickchartButtonEl =\n",
              "            document.querySelector('#df-7ad3987e-532e-451d-9fac-3f038da6a168 button');\n",
              "          quickchartButtonEl.style.display =\n",
              "            google.colab.kernel.accessAllowed ? 'block' : 'none';\n",
              "        })();\n",
              "      </script>\n",
              "    </div>\n",
              "\n",
              "  <div id=\"id_47dcc089-3a06-48c4-8aa5-30c06ec54d7f\">\n",
              "    <style>\n",
              "      .colab-df-generate {\n",
              "        background-color: #E8F0FE;\n",
              "        border: none;\n",
              "        border-radius: 50%;\n",
              "        cursor: pointer;\n",
              "        display: none;\n",
              "        fill: #1967D2;\n",
              "        height: 32px;\n",
              "        padding: 0 0 0 0;\n",
              "        width: 32px;\n",
              "      }\n",
              "\n",
              "      .colab-df-generate:hover {\n",
              "        background-color: #E2EBFA;\n",
              "        box-shadow: 0px 1px 2px rgba(60, 64, 67, 0.3), 0px 1px 3px 1px rgba(60, 64, 67, 0.15);\n",
              "        fill: #174EA6;\n",
              "      }\n",
              "\n",
              "      [theme=dark] .colab-df-generate {\n",
              "        background-color: #3B4455;\n",
              "        fill: #D2E3FC;\n",
              "      }\n",
              "\n",
              "      [theme=dark] .colab-df-generate:hover {\n",
              "        background-color: #434B5C;\n",
              "        box-shadow: 0px 1px 3px 1px rgba(0, 0, 0, 0.15);\n",
              "        filter: drop-shadow(0px 1px 2px rgba(0, 0, 0, 0.3));\n",
              "        fill: #FFFFFF;\n",
              "      }\n",
              "    </style>\n",
              "    <button class=\"colab-df-generate\" onclick=\"generateWithVariable('combined_df')\"\n",
              "            title=\"Generate code using this dataframe.\"\n",
              "            style=\"display:none;\">\n",
              "\n",
              "  <svg xmlns=\"http://www.w3.org/2000/svg\" height=\"24px\"viewBox=\"0 0 24 24\"\n",
              "       width=\"24px\">\n",
              "    <path d=\"M7,19H8.4L18.45,9,17,7.55,7,17.6ZM5,21V16.75L18.45,3.32a2,2,0,0,1,2.83,0l1.4,1.43a1.91,1.91,0,0,1,.58,1.4,1.91,1.91,0,0,1-.58,1.4L9.25,21ZM18.45,9,17,7.55Zm-12,3A5.31,5.31,0,0,0,4.9,8.1,5.31,5.31,0,0,0,1,6.5,5.31,5.31,0,0,0,4.9,4.9,5.31,5.31,0,0,0,6.5,1,5.31,5.31,0,0,0,8.1,4.9,5.31,5.31,0,0,0,12,6.5,5.46,5.46,0,0,0,6.5,12Z\"/>\n",
              "  </svg>\n",
              "    </button>\n",
              "    <script>\n",
              "      (() => {\n",
              "      const buttonEl =\n",
              "        document.querySelector('#id_47dcc089-3a06-48c4-8aa5-30c06ec54d7f button.colab-df-generate');\n",
              "      buttonEl.style.display =\n",
              "        google.colab.kernel.accessAllowed ? 'block' : 'none';\n",
              "\n",
              "      buttonEl.onclick = () => {\n",
              "        google.colab.notebook.generateWithVariable('combined_df');\n",
              "      }\n",
              "      })();\n",
              "    </script>\n",
              "  </div>\n",
              "\n",
              "    </div>\n",
              "  </div>\n"
            ],
            "application/vnd.google.colaboratory.intrinsic+json": {
              "type": "dataframe",
              "variable_name": "combined_df",
              "repr_error": "0"
            }
          },
          "metadata": {},
          "execution_count": 8
        }
      ]
    },
    {
      "cell_type": "code",
      "source": [
        "import matplotlib.pyplot as plt\n",
        "import seaborn as sns\n",
        "\n",
        "plt.figure(figsize=(10, 4))\n",
        "\n",
        "sns.boxplot(x=combined_df['trip_duration'], color='skyblue')\n",
        "\n",
        "plt.xlabel('Trip Duration (seconds)')\n",
        "plt.title('Box Plot of Trip Durations')\n",
        "plt.grid(True)\n",
        "plt.tight_layout()\n",
        "plt.show()\n"
      ],
      "metadata": {
        "colab": {
          "base_uri": "https://localhost:8080/",
          "height": 347
        },
        "id": "v644ypRLzwd8",
        "outputId": "eff105e1-c78d-42b1-baae-b211e9b66928"
      },
      "execution_count": null,
      "outputs": [
        {
          "output_type": "display_data",
          "data": {
            "text/plain": [
              "<Figure size 1000x400 with 1 Axes>"
            ],
            "image/png": "[encoded data removed]"
          },
          "metadata": {}
        }
      ]
    },
    {
      "cell_type": "code",
      "source": [
        "def get_duration_discrepancy_mask(df, max_duration_hours=3, tolerance=60):\n",
        "    \"\"\"\n",
        "    Returns a boolean mask where trip_duration > max_duration_hours * 3600\n",
        "    and differs from actual duration by more than `tolerance` seconds.\n",
        "\n",
        "    Parameters:\n",
        "    - df: pandas DataFrame with 'pickup_datetime' and 'dropoff_datetime' columns.\n",
        "    - max_duration_hours: threshold for excessive duration in hours.\n",
        "    - tolerance: allowable difference in seconds between trip_duration and computed duration.\n",
        "    \"\"\"\n",
        "    pickup_dt = pd.to_datetime(df['pickup_datetime'])\n",
        "    dropoff_dt = pd.to_datetime(df['dropoff_datetime'])\n",
        "\n",
        "    computed_duration = (dropoff_dt - pickup_dt).dt.total_seconds()\n",
        "    max_duration_seconds = max_duration_hours * 3600\n",
        "\n",
        "    mask = (\n",
        "        (df['trip_duration'] > max_duration_seconds) &\n",
        "        (abs(df['trip_duration'] - computed_duration) > tolerance)\n",
        "    )\n",
        "    return mask\n",
        "\n"
      ],
      "metadata": {
        "id": "68DWS1Bebjp4"
      },
      "execution_count": null,
      "outputs": []
    },
    {
      "cell_type": "code",
      "source": [
        "mask_duration_discrepancy = get_duration_discrepancy_mask(combined_df, max_duration_hours=3, tolerance=60)"
      ],
      "metadata": {
        "id": "lAQqmrZpbjmw"
      },
      "execution_count": null,
      "outputs": []
    },
    {
      "cell_type": "code",
      "source": [
        "combined_df = combined_df[~mask_duration_discrepancy]"
      ],
      "metadata": {
        "id": "tZUoGr2abjjE"
      },
      "execution_count": null,
      "outputs": []
    },
    {
      "cell_type": "code",
      "source": [
        "# Drop a useless column only useful to combine our dataset with other taxi datasets\n",
        "combined_df = combined_df.drop(columns=['store_and_fwd_flag'])"
      ],
      "metadata": {
        "id": "RDsE8slXbjex"
      },
      "execution_count": null,
      "outputs": []
    },
    {
      "cell_type": "markdown",
      "source": [
        "# Observe if the mean is higher around some Christian holidays and around certain hours specifically the windows (7-9) and (17-19) all the trips in that window will be considered\n",
        "\n"
      ],
      "metadata": {
        "id": "MYfIZH6koj9O"
      }
    },
    {
      "cell_type": "code",
      "source": [
        "import pandas as pd\n",
        "import numpy as np\n",
        "from datetime import timedelta\n",
        "\n",
        "def is_majority_rush_hour(pickup, dropoff, min_fraction=2/3):\n",
        "    rush_hours = [(7, 9), (16, 19)]  # Inclusive start, exclusive end\n",
        "    total_seconds = (dropoff - pickup).total_seconds()\n",
        "    if total_seconds == 0:\n",
        "        return False\n",
        "\n",
        "    # Sample every minute of the trip\n",
        "    minutes = int(total_seconds // 60)\n",
        "    rush_minutes = 0\n",
        "\n",
        "    for i in range(minutes + 1):\n",
        "        current_time = pickup + timedelta(minutes=i)\n",
        "        hour = current_time.hour\n",
        "        if any(start <= hour < end for (start, end) in rush_hours):\n",
        "            rush_minutes += 1\n",
        "\n",
        "    return (rush_minutes / max(1, minutes)) >= min_fraction\n",
        "\n",
        "# Create the mask\n",
        "mask_majority_rush = combined_df.apply(\n",
        "    lambda row: is_majority_rush_hour(\n",
        "        pd.to_datetime(row['pickup_datetime']),\n",
        "        pd.to_datetime(row['dropoff_datetime']),\n",
        "        min_fraction=2/3  # You can adjust this value\n",
        "    ),\n",
        "    axis=1\n",
        ")\n",
        "\n"
      ],
      "metadata": {
        "id": "FtVJSY2Vxo_E"
      },
      "execution_count": null,
      "outputs": []
    },
    {
      "cell_type": "code",
      "source": [
        "combined_df['mostly_rush_hour'] = mask_majority_rush"
      ],
      "metadata": {
        "id": "IhLP_jIe0CwF"
      },
      "execution_count": null,
      "outputs": []
    },
    {
      "cell_type": "markdown",
      "source": [
        "# Mean Velocities\n",
        "\n"
      ],
      "metadata": {
        "id": "E2_BHQ3Al6FQ"
      }
    },
    {
      "cell_type": "code",
      "source": [
        "combined_df['means_velocity'] = combined_df['dist_meters']/combined_df['trip_duration']"
      ],
      "metadata": {
        "id": "g6Im7qTz1Jog"
      },
      "execution_count": null,
      "outputs": []
    },
    {
      "cell_type": "code",
      "source": [
        "import numpy as np\n",
        "import pandas as pd  # Assuming combined_df is a Pandas DataFrame\n",
        "\n",
        "# Calculate computed duration in seconds\n",
        "duration_computed = (combined_df['dropoff_datetime'] - combined_df['pickup_datetime']).dt.total_seconds()\n",
        "\n",
        "# Avoid comparison where either duration is zero\n",
        "valid_duration = (combined_df['trip_duration'] > 0) & (duration_computed > 0)\n",
        "\n",
        "# Adjustable tolerance parameters for duration comparison\n",
        "rtol_duration = 1e-3  # relative tolerance for duration\n",
        "atol_duration = 5     # absolute tolerance for duration in seconds\n",
        "\n",
        "# Compare trip_duration and computed duration within tolerance\n",
        "duration_mask = (\n",
        "    valid_duration &\n",
        "    np.isclose(\n",
        "        combined_df['trip_duration'],\n",
        "        duration_computed,\n",
        "        rtol=rtol_duration,\n",
        "        atol=atol_duration\n",
        "    )\n",
        ")\n",
        "\n",
        "# The 'duration_mask' will now indicate rows where the two duration measurements are close.\n",
        "\n",
        "# You can still use your original mask to compare speeds, but be mindful of the case where dist_meters is zero.\n",
        "speed_mask = (\n",
        "    valid_duration &\n",
        "    (combined_df['dist_meters'] == 0) |  # Always True if distance is zero\n",
        "    np.isclose(\n",
        "        combined_df['dist_meters'] / combined_df['trip_duration'],\n",
        "        combined_df['dist_meters'] / duration_computed,\n",
        "        rtol=rtol,\n",
        "        atol=atol\n",
        "    )\n",
        ")\n"
      ],
      "metadata": {
        "id": "VrpbF9lN1nHB"
      },
      "execution_count": null,
      "outputs": []
    },
    {
      "cell_type": "code",
      "source": [
        "speed_mask.sum() # This last mask is true 42863 pretty close to 44210.\n",
        "           # This last filter deliver a sliglty better dataset\n",
        "           # The mean velocity has been checked in two independent ways"
      ],
      "metadata": {
        "colab": {
          "base_uri": "https://localhost:8080/"
        },
        "id": "vTrmE2wr2sJJ",
        "outputId": "249c2079-cda2-4644-f712-d9d8de69b975"
      },
      "execution_count": null,
      "outputs": [
        {
          "output_type": "execute_result",
          "data": {
            "text/plain": [
              "np.int64(42983)"
            ]
          },
          "metadata": {},
          "execution_count": 21
        }
      ]
    },
    {
      "cell_type": "code",
      "source": [
        "combined_df = combined_df[speed_mask]"
      ],
      "metadata": {
        "id": "AFSpaDuc3V9Y"
      },
      "execution_count": null,
      "outputs": []
    },
    {
      "cell_type": "markdown",
      "source": [
        "# Geodetic Distances\n",
        "\n",
        "Are there significant discrepancy between dist_meters and geodetic distances."
      ],
      "metadata": {
        "id": "PDr2x-FHl_OP"
      }
    },
    {
      "cell_type": "code",
      "source": [
        "from geopy.distance import geodesic  # or great_circle if preferred\n",
        "import numpy as np\n",
        "\n",
        "# Extract coordinates as tuples\n",
        "pickup_locations = combined_df[['pickup_latitude', 'pickup_longitude']].values\n",
        "dropoff_locations = combined_df[['dropoff_latitude', 'dropoff_longitude']].values\n",
        "\n",
        "# Compute geodetic distances in meters\n",
        "def compute_geodetic(pickup, dropoff):\n",
        "    try:\n",
        "        return geodesic(pickup, dropoff).meters\n",
        "    except:\n",
        "        return np.nan\n",
        "\n",
        "# Vectorized application with fallback to avoid errors\n",
        "geodetic_distances = [\n",
        "    compute_geodetic(p, d) for p, d in zip(pickup_locations, dropoff_locations)\n",
        "]\n",
        "\n",
        "combined_df['geodetic_distance'] = geodetic_distances"
      ],
      "metadata": {
        "id": "_uWGYDtg6yfX"
      },
      "execution_count": null,
      "outputs": []
    },
    {
      "cell_type": "markdown",
      "source": [
        "# Save our progress:"
      ],
      "metadata": {
        "id": "deRPDm7BmL6N"
      }
    },
    {
      "cell_type": "code",
      "source": [
        "import os\n",
        "import pandas as pd\n",
        "\n",
        "# Define path inside Google Drive\n",
        "drive_path = '/content/drive/MyDrive/datasets'\n",
        "\n",
        "# Create the folder if it doesn't exist\n",
        "os.makedirs(drive_path, exist_ok=True)\n",
        "\n",
        "# Save your DataFrame as CSV\n",
        "combined_df.to_csv(os.path.join(drive_path, 'combined_dataset1.csv'), index=False)"
      ],
      "metadata": {
        "id": "FLoG0oU-8rA4"
      },
      "execution_count": null,
      "outputs": []
    }
  ]
}